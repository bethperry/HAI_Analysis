{
 "cells": [
  {
   "cell_type": "markdown",
   "metadata": {},
   "source": [
    "# Hospital Acquired Infections in NY - 2008 to 2018 <a id='Top'></a>"
   ]
  },
  {
   "cell_type": "markdown",
   "metadata": {},
   "source": [
    "## Executive Summary"
   ]
  },
  {
   "cell_type": "markdown",
   "metadata": {},
   "source": [
    "- About 180 hospital facilities in NY reported annually on the number of hospital acquired infections observed within their facility between 2008 and 2018. The majority of these facilities are within the New York City metropolitan area."
   ]
  },
  {
   "cell_type": "markdown",
   "metadata": {},
   "source": [
    "- Clostridium difficile infections (CDI) account for almost 70% of observed infections. Despite having a much smaller number of total infections, surgical site infections (SSI) have a relatively high incidence per 100 procedures."
   ]
  },
  {
   "cell_type": "markdown",
   "metadata": {},
   "source": [
    "- There is a large variance in the incidence of SSI for Colon procedures across NY facilities. There may be opportunities here to study facilities with low SSI Colon incidences and develop standardized processes to limit variability. Facilities with high SSI Colon incidences can be prioritized for implementation of these processes."
   ]
  },
  {
   "cell_type": "markdown",
   "metadata": {},
   "source": [
    "[Skip to Analysis](#Analysis)"
   ]
  },
  {
   "cell_type": "markdown",
   "metadata": {},
   "source": [
    "##### Data: https://healthdata.gov/dataset/hospital-acquired-infections-beginning-2008  \n",
    "*The data used in this analysis was provided by the state of New York.*"
   ]
  },
  {
   "cell_type": "markdown",
   "metadata": {},
   "source": [
    "# Table of Contents\n",
    "\n",
    "- [Preparation](#Preparation)  \n",
    "- [Get Data](#GetData)  \n",
    "- [Add Features](#AddFeatures)  \n",
    "- [Analysis](#Analysis)  \n",
    "- [Conclusion](#Conclusion)  "
   ]
  },
  {
   "cell_type": "markdown",
   "metadata": {},
   "source": [
    "<a id='Preparation'></a>\n",
    "## Preparation"
   ]
  },
  {
   "cell_type": "markdown",
   "metadata": {},
   "source": [
    "Import Python libraries to aid in analysis"
   ]
  },
  {
   "cell_type": "code",
   "execution_count": 3,
   "metadata": {},
   "outputs": [],
   "source": [
    "import numpy as np\n",
    "import pandas as pd\n",
    "from pprint import pprint\n",
    "\n",
    "import matplotlib.pyplot as plt\n",
    "import seaborn as sns\n",
    "\n",
    "# Incorporated citipy to determine city based on latitude and longitude\n",
    "from citipy import citipy\n",
    "\n",
    "# Import for reverse geocoding API calls\n",
    "import requests\n",
    "import urllib\n",
    "\n",
    "# Import us to get additional county-level info\n",
    "#import us\n",
    "\n",
    "# Import time to avoid issues with API pull\n",
    "import time\n",
    "\n",
    "# Import mapping libraries\n",
    "import os\n",
    "import shapefile\n",
    "import geopandas as gpd\n",
    "from shapely.geometry import shape\n",
    "from shapely.geometry import Point\n",
    "\n",
    "import matplotlib.cm\n",
    "from matplotlib.colors import Normalize"
   ]
  },
  {
   "cell_type": "code",
   "execution_count": 4,
   "metadata": {},
   "outputs": [
    {
     "data": {
      "text/plain": [
       "{'font.size': 12.0,\n",
       " 'axes.labelsize': 12.0,\n",
       " 'axes.titlesize': 16.0,\n",
       " 'xtick.labelsize': 12.0,\n",
       " 'ytick.labelsize': 12.0,\n",
       " 'legend.fontsize': 10.0,\n",
       " 'axes.linewidth': 1.25,\n",
       " 'grid.linewidth': 1.0,\n",
       " 'lines.linewidth': 1.5,\n",
       " 'lines.markersize': 6.0,\n",
       " 'patch.linewidth': 1.0,\n",
       " 'xtick.major.width': 1.25,\n",
       " 'ytick.major.width': 1.25,\n",
       " 'xtick.minor.width': 1.0,\n",
       " 'ytick.minor.width': 1.0,\n",
       " 'xtick.major.size': 6.0,\n",
       " 'ytick.major.size': 6.0,\n",
       " 'xtick.minor.size': 4.0,\n",
       " 'ytick.minor.size': 4.0,\n",
       " 'legend.title_fontsize': 12.0}"
      ]
     },
     "execution_count": 4,
     "metadata": {},
     "output_type": "execute_result"
    }
   ],
   "source": [
    "# Set Seaborn visualization styles\n",
    "sns.set_style('darkgrid')\n",
    "\n",
    "rc={'font.size': 12, 'axes.labelsize': 12, 'legend.fontsize': 10.0, \n",
    "    'axes.titlesize': 16, 'xtick.labelsize': 12, 'ytick.labelsize': 12}\n",
    "sns.set(rc=rc)\n",
    "sns.plotting_context()"
   ]
  },
  {
   "cell_type": "markdown",
   "metadata": {},
   "source": [
    "<a id='GetData'></a>\n",
    "## Get Data"
   ]
  },
  {
   "cell_type": "markdown",
   "metadata": {},
   "source": [
    "Read in the csv dataset downloaded from https://healthdata.gov/dataset/hospital-acquired-infections-beginning-2008. \n",
    "\n",
    "Below is the summary description of this data as provided by healthdata.gov:\n",
    "\n",
    ">*All acute care hospitals are required to report certain hospital-acquired infections (HAIs) to the New York State Department of Health (NYSDOH). This includes central line-associated blood stream infections; surgical site infections following colon, hip replacement/revision, coronary artery bypass graft, and hysterectomy; Clostridium difficile infections; and carbapenem-resistant Enterobacteriaceae infections.*\n",
    "\n",
    "Source: [health.data.ny.gov](https://health.data.ny.gov)"
   ]
  },
  {
   "cell_type": "code",
   "execution_count": 5,
   "metadata": {},
   "outputs": [],
   "source": [
    "hai_df = pd.read_csv('Hospital-Acquired_Infections__Beginning_2008.csv')"
   ]
  },
  {
   "cell_type": "code",
   "execution_count": 6,
   "metadata": {},
   "outputs": [
    {
     "name": "stdout",
     "output_type": "stream",
     "text": [
      "<class 'pandas.core.frame.DataFrame'>\n",
      "RangeIndex: 21661 entries, 0 to 21660\n",
      "Data columns (total 13 columns):\n",
      " #   Column                            Non-Null Count  Dtype  \n",
      "---  ------                            --------------  -----  \n",
      " 0   Facility ID                       21661 non-null  int64  \n",
      " 1   Hospital Name                     21661 non-null  object \n",
      " 2   Indicator Name                    21661 non-null  object \n",
      " 3   Year                              21661 non-null  int64  \n",
      " 4   Infections Observed               20575 non-null  float64\n",
      " 5   Infections Predicted              13657 non-null  float64\n",
      " 6   Denominator                       18804 non-null  float64\n",
      " 7   Indicator Value                   20575 non-null  float64\n",
      " 8   Indicator Lower Confidence Limit  13657 non-null  float64\n",
      " 9   Indicator Upper Confidence Limit  13657 non-null  float64\n",
      " 10  Indicator Units                   19790 non-null  object \n",
      " 11  Comparison Results                21422 non-null  object \n",
      " 12  New Georeferenced Column          21422 non-null  object \n",
      "dtypes: float64(6), int64(2), object(5)\n",
      "memory usage: 2.1+ MB\n"
     ]
    }
   ],
   "source": [
    "hai_df.info()"
   ]
  },
  {
   "cell_type": "code",
   "execution_count": 7,
   "metadata": {},
   "outputs": [
    {
     "data": {
      "text/plain": [
       "{'CDI Community Onset Not-My-Hospital',\n",
       " 'CDI Hospital Onset',\n",
       " 'CDI Possibly-My-Hospital Associated',\n",
       " 'CLABSI Cardiothoracic ICU',\n",
       " 'CLABSI Coronary ICU',\n",
       " 'CLABSI Medical ICU',\n",
       " 'CLABSI Medical Surgical ICU',\n",
       " 'CLABSI Medical Surgical Ward',\n",
       " 'CLABSI Medical Ward',\n",
       " 'CLABSI Neonatal ICU Level 2/3',\n",
       " 'CLABSI Neonatal ICU Level 3',\n",
       " 'CLABSI Neonatal ICU Regional Perinatal Center',\n",
       " 'CLABSI Neurosurgical ICU',\n",
       " 'CLABSI Overall Standardized Infection Ratio',\n",
       " 'CLABSI Pediatric ICU',\n",
       " 'CLABSI Pediatric Ward',\n",
       " 'CLABSI Step Down Unit',\n",
       " 'CLABSI Surgical ICU',\n",
       " 'CLABSI Surgical Ward',\n",
       " 'CRE Admission Prevalence Rate- Bloodstream Infections',\n",
       " 'CRE Admission Prevalence Rate- all body sites',\n",
       " 'CRE Hospital Onset Infection Rate- Bloodstream Infections',\n",
       " 'CRE Hospital Onset Infection Rate- all body sites',\n",
       " 'SSI CABG chest site',\n",
       " 'SSI CABG donor site',\n",
       " 'SSI Colon',\n",
       " 'SSI Hip',\n",
       " 'SSI Hysterectomy'}"
      ]
     },
     "execution_count": 7,
     "metadata": {},
     "output_type": "execute_result"
    }
   ],
   "source": [
    "set(hai_df['Indicator Name'])\n",
    "# CDI = Clostridium difficile infections\n",
    "# CLABSI = central line-associated blood stream infections\n",
    "# SSI = surgical site infections following colon, hip replacement/revision, coronary artery bypass graft, and hysterectomy\n",
    "# CRE = carbapenem-resistant Enterobacteriaceae infections"
   ]
  },
  {
   "cell_type": "code",
   "execution_count": 8,
   "metadata": {},
   "outputs": [
    {
     "data": {
      "text/plain": [
       "{'Adirondack Medical Center-Saranac Lake Site',\n",
       " 'Albany Medical Center Hospital',\n",
       " 'Albany Memorial Hospital',\n",
       " 'Albert Lindley Lee Memorial Hospital',\n",
       " 'Arnot Ogden Medical Center',\n",
       " 'Auburn Community Hospital',\n",
       " 'Aurelia Osborn Fox Memorial Hospital',\n",
       " 'Bellevue Hospital Center',\n",
       " 'Bertrand Chaffee Hospital',\n",
       " 'Blythedale Childrens Hospital',\n",
       " 'Bon Secours Community Hospital',\n",
       " 'BronxCare Hospital Center',\n",
       " 'Brookdale Hospital Medical Center',\n",
       " 'Brooklyn Hospital Center - Downtown Campus',\n",
       " 'Brooks-TLC Hospital System, Inc.',\n",
       " 'Buffalo General Medical Center',\n",
       " 'Calvary Hospital Inc',\n",
       " 'Canton-Potsdam Hospital',\n",
       " 'Carthage Area Hospital Inc',\n",
       " 'Catskill Regional Medical Center',\n",
       " 'Cayuga Medical Center at Ithaca',\n",
       " 'Chenango Memorial Hospital Inc',\n",
       " 'Claxton-Hepburn Medical Center',\n",
       " 'Clifton Springs Hospital and Clinic',\n",
       " 'Cobleskill Regional Hospital',\n",
       " 'Cohen Childrens Medical Center',\n",
       " 'Columbia Memorial Hospital',\n",
       " 'Community Memorial Hospital Inc',\n",
       " 'Coney Island Hospital',\n",
       " 'Corning Hospital',\n",
       " 'Crouse Hospital',\n",
       " 'Degraff Memorial Hospital',\n",
       " 'Eastern Niagara Hospital - Lockport Division',\n",
       " 'Eastern Niagara Hospital - Newfane Division',\n",
       " 'Ellis Hospital',\n",
       " \"Ellis Hospital - Bellevue Woman's Care Center Division\",\n",
       " 'Elmhurst Hospital Center',\n",
       " 'Erie County Medical Center',\n",
       " 'F F Thompson Hospital',\n",
       " 'Faxton-St Lukes Healthcare St Lukes Division',\n",
       " 'Flushing Hospital Medical Center',\n",
       " 'Geneva General Hospital',\n",
       " 'Glen Cove Hospital',\n",
       " 'Glens Falls Hospital',\n",
       " 'Good Samaritan Hospital Medical Center',\n",
       " 'Good Samaritan Hospital of Suffern',\n",
       " 'Gouverneur Hospital',\n",
       " 'Guthrie Cortland Medical Center',\n",
       " 'Harlem Hospital Center',\n",
       " 'HealthAlliance Hospital Broadway Campus',\n",
       " \"HealthAlliance Hospital Mary's Avenue Campus\",\n",
       " 'Helen Hayes Hospital',\n",
       " 'Henry J. Carter Specialty Hospital',\n",
       " 'Highland Hospital',\n",
       " 'Hospital for Special Surgery',\n",
       " 'Huntington Hospital',\n",
       " 'Interfaith Medical Center',\n",
       " 'Ira Davenport Memorial Hospital Inc',\n",
       " 'Jacobi Medical Center',\n",
       " 'Jamaica Hospital Medical Center',\n",
       " \"John R. Oishei Children's Hospital\",\n",
       " 'John T Mather Memorial Hospital of Port Jefferson New York Inc',\n",
       " 'Kenmore Mercy Hospital',\n",
       " 'Kings County Hospital Center',\n",
       " 'Kingsbrook Jewish Medical Center',\n",
       " 'Lakeside Memorial Hospital',\n",
       " 'Lenox Hill Hospital',\n",
       " 'Lewis County General Hospital',\n",
       " 'Lincoln Medical & Mental Health Center',\n",
       " 'Long Beach Medical Center',\n",
       " 'Long Island Community Hospital',\n",
       " 'Long Island Jewish Forest Hills',\n",
       " 'Long Island Jewish Medical Center',\n",
       " 'Long Island Jewish Valley Stream',\n",
       " 'Maimonides Medical Center',\n",
       " 'Mary Immaculate Hospital',\n",
       " 'Mary Imogene Bassett Hospital',\n",
       " 'Massena Memorial Hospital',\n",
       " 'Medina Memorial Hospital',\n",
       " 'Memorial Hosp of Wm F & Gertrude F Jones A/K/A Jones Memorial Hosp',\n",
       " 'Memorial Hospital for Cancer and Allied Diseases',\n",
       " 'Mercy Hospital of Buffalo',\n",
       " 'Mercy Medical Center',\n",
       " 'Metropolitan Hospital Center',\n",
       " 'Mid-Hudson Valley Division of Westchester Medical Center',\n",
       " 'Millard Fillmore Hospital',\n",
       " 'Millard Fillmore Suburban Hospital',\n",
       " 'Monroe Community Hospital',\n",
       " 'Montefiore Med Center - Jack D Weiler Hosp of A Einstein College Div',\n",
       " 'Montefiore Medical Center - Henry & Lucy Moses Div',\n",
       " 'Montefiore Medical Center - Montefiore Westchester Square',\n",
       " 'Montefiore Medical Center-Wakefield Hospital',\n",
       " 'Montefiore Mount Vernon Hospital',\n",
       " 'Montefiore New Rochelle Hospital',\n",
       " 'Montefiore Nyack',\n",
       " 'Mount Sinai Beth Israel',\n",
       " 'Mount Sinai Brooklyn',\n",
       " 'Mount Sinai Hospital',\n",
       " 'Mount Sinai Hospital - Mount Sinai Hospital of Queens',\n",
       " 'Mount Sinai South Nassau',\n",
       " \"Mount Sinai St. Luke's\",\n",
       " 'Mount Sinai West',\n",
       " 'Mount St Marys Hospital and Health Center',\n",
       " 'NYU Langone Hospital-Brooklyn',\n",
       " 'NYU Langone Hospitals',\n",
       " 'NYU Langone Orthopedic Hospital',\n",
       " 'NYU Winthrop Hospital',\n",
       " 'Nassau University Medical Center',\n",
       " 'Nathan Littauer Hospital',\n",
       " 'New York Community Hospital of Brooklyn, Inc',\n",
       " 'New York Eye and Ear Infirmary of Mount Sinai',\n",
       " 'New York Presbyterian Hospital - Allen Hospital',\n",
       " 'New York Presbyterian Hospital - Columbia Presbyterian Center',\n",
       " 'New York Presbyterian Hospital - New York Weill Cornell Center',\n",
       " 'New York State - All Hospitals',\n",
       " 'New York-Presbyterian/Lower Manhattan Hospital',\n",
       " 'NewYork-Presbyterian Brooklyn Methodist Hospital',\n",
       " 'NewYork-Presbyterian Hospital',\n",
       " 'NewYork-Presbyterian/Hudson Valley Hospital',\n",
       " 'NewYork-Presbyterian/Queens',\n",
       " 'Newark-Wayne Community Hospital',\n",
       " 'Niagara Falls Memorial Medical Center',\n",
       " 'Nicholas H Noyes Memorial Hospital',\n",
       " 'North Central Bronx Hospital',\n",
       " 'North General Hospital',\n",
       " 'North Shore University Hospital',\n",
       " 'Northern Dutchess Hospital',\n",
       " 'Northern Westchester Hospital',\n",
       " 'Olean General Hospital',\n",
       " 'Oneida Health Hospital',\n",
       " 'Orange Regional Medical Center',\n",
       " 'Oswego Hospital',\n",
       " 'Our Lady of Lourdes Memorial Hospital Inc',\n",
       " 'Peconic Bay Medical Center',\n",
       " 'Peninsula Hospital Center',\n",
       " 'Phelps Hospital',\n",
       " 'Plainview Hospital',\n",
       " 'Putnam Hospital Center',\n",
       " 'Queens Hospital Center',\n",
       " 'Richmond University Medical Center',\n",
       " 'Rochester General Hospital',\n",
       " 'Rome Memorial Hospital, Inc',\n",
       " 'Roswell Park Cancer Institute',\n",
       " 'SBH Health System',\n",
       " 'SJRH - Dobbs Ferry Pavillion',\n",
       " 'SJRH - St Johns Division',\n",
       " 'SUNY Downstate Medical Center at LICH',\n",
       " 'SVCMC-St Vincents Manhattan',\n",
       " 'Samaritan Hospital',\n",
       " \"Samaritan Hospital - St. Mary's Campus\",\n",
       " 'Samaritan Medical Center',\n",
       " 'Saratoga Hospital',\n",
       " 'Sisters of Charity Hospital',\n",
       " 'Sisters of Charity Hospital - St Joseph Campus',\n",
       " 'Southside Hospital',\n",
       " 'St Anthony Community Hospital',\n",
       " 'St Catherine of Siena Hospital',\n",
       " 'St Charles Hospital',\n",
       " 'St Elizabeth Medical Center',\n",
       " 'St Francis Hospital',\n",
       " 'St Johns Episcopal Hospital So Shore',\n",
       " 'St Johns Queens Hospital',\n",
       " \"St Joseph's Medical Center\",\n",
       " \"St Luke's Cornwall Hospital/Newburgh\",\n",
       " 'St Peters Hospital',\n",
       " 'St. James Hospital',\n",
       " 'St. Joseph Hospital',\n",
       " \"St. Joseph's Hospital\",\n",
       " \"St. Joseph's Hospital Health Center\",\n",
       " \"St. Mary's Healthcare\",\n",
       " 'Staten Island University Hosp-North',\n",
       " 'Staten Island University Hosp-South',\n",
       " 'Strong Memorial Hospital',\n",
       " 'Summit Park Hospital-Rockland County Infirmary',\n",
       " 'Sunnyview Hospital and Rehabilitation Center',\n",
       " 'Syosset Hospital',\n",
       " 'The Burdett Care Center',\n",
       " 'The Unity Hospital of Rochester',\n",
       " 'The University of Vermont Health Network - Alice Hyde Medical Center',\n",
       " 'The University of Vermont Health Network - Champlain Valley Physicians Hospital',\n",
       " 'UPMC Chautauqua at WCA',\n",
       " 'UPSTATE University Hospital at Community General',\n",
       " 'United Health Services Hospitals Inc. - Binghamton General Hospital',\n",
       " 'United Health Services Hospitals Inc. - Wilson Medical Center',\n",
       " 'United Memorial Medical Center North Street Campus',\n",
       " 'University Hospital',\n",
       " 'University Hospital - Stony Brook Eastern Long Island Hospital',\n",
       " 'University Hospital - Stony Brook Southampton Hospital',\n",
       " 'University Hospital SUNY Health Science Center',\n",
       " 'University Hospital of Brooklyn',\n",
       " 'Vassar Brothers Medical Center',\n",
       " 'Westchester Medical Center',\n",
       " 'Westfield Memorial Hospital Inc',\n",
       " 'White Plains Hospital Center',\n",
       " 'Winifred Masterson Burke Rehabilitation Hospital',\n",
       " 'Woodhull Medical & Mental Health Center',\n",
       " 'Wyckoff Heights Medical Center',\n",
       " 'Wyoming County Community Hospital'}"
      ]
     },
     "execution_count": 8,
     "metadata": {},
     "output_type": "execute_result"
    }
   ],
   "source": [
    "set(hai_df['Hospital Name'])"
   ]
  },
  {
   "cell_type": "markdown",
   "metadata": {},
   "source": [
    "Copy into a new dataframe to add features and analyze"
   ]
  },
  {
   "cell_type": "code",
   "execution_count": 9,
   "metadata": {},
   "outputs": [],
   "source": [
    "infections_df = hai_df.copy()"
   ]
  },
  {
   "cell_type": "markdown",
   "metadata": {},
   "source": [
    "<a id='AddFeatures'></a>\n",
    "## Add features"
   ]
  },
  {
   "cell_type": "markdown",
   "metadata": {},
   "source": [
    "### Create indicator features"
   ]
  },
  {
   "cell_type": "code",
   "execution_count": 10,
   "metadata": {},
   "outputs": [],
   "source": [
    "# Create indicator features\n",
    "indicator_code = []\n",
    "indicator_area = []\n",
    "\n",
    "\n",
    "for val in infections_df['Indicator Name']:\n",
    "    \n",
    "    if val[0:6] == 'CLABSI':\n",
    "        indicator_code.append('CLABSI')\n",
    "        indicator_area.append(val[6:].strip())\n",
    "        \n",
    "    elif val[0:3] == 'CDI':\n",
    "        indicator_code.append('CDI')\n",
    "        indicator_area.append(val[3:].strip())\n",
    "        \n",
    "    elif val[0:3] == 'SSI':\n",
    "        indicator_code.append('SSI')\n",
    "        indicator_area.append(val[3:].strip())\n",
    "        \n",
    "    elif val[0:3] == 'CRE':\n",
    "        indicator_code.append('CRE')\n",
    "        indicator_area.append(val[3:].strip())\n",
    "        \n",
    "    else: \n",
    "        indicator_code == None\n",
    "        indicator_area == None\n",
    "\n",
    "infections_df['Indicator Code'] = indicator_code\n",
    "infections_df['Indicator Area'] = indicator_area\n",
    "\n",
    "\n",
    "indicator_dict = {\n",
    "    'CDI':'Clostridium difficile infections',\n",
    "    'CLABSI':'central line-associated blood stream infections',\n",
    "    'SSI':'surgical site infections following colon, hip replacement/revision, coronary artery bypass graft, and hysterectomy',\n",
    "    'CRE':'carbapenem-resistant Enterobacteriaceae infections'\n",
    "}\n",
    "\n",
    "code_long_name = []\n",
    "\n",
    "for key in infections_df['Indicator Code']:\n",
    "    code_long_name.append(indicator_dict[key])\n",
    "\n",
    "infections_df['Indicator Code Long Name'] = code_long_name\n"
   ]
  },
  {
   "cell_type": "markdown",
   "metadata": {},
   "source": [
    "### Remove totals rows for all NY state to a separate dataframe"
   ]
  },
  {
   "cell_type": "markdown",
   "metadata": {},
   "source": [
    "There are 239 rows in the CSV file for \"New York State - All Hospitals\". These contain totals for the entire state. However, these rows do not contain any location information, so it does not make sense to include them in the main analysis dataframe any longer.\n",
    "\n",
    "By separating them into their own dataframe, we can choose to analyze infections at the state level or at a more granular level."
   ]
  },
  {
   "cell_type": "code",
   "execution_count": 11,
   "metadata": {},
   "outputs": [],
   "source": [
    "all_ny_state = infections_df[infections_df['Facility ID'] == 0].reset_index(drop = True)\n",
    "\n",
    "infections_df = infections_df[infections_df['Facility ID'] != 0].reset_index(drop = True)"
   ]
  },
  {
   "cell_type": "markdown",
   "metadata": {},
   "source": [
    "Do these dataframes agree on the totals?\n",
    "\n",
    "**How many total infections have been reported in the state of NY since 2008?  \n",
    "What is the average number of infections reported per year?**"
   ]
  },
  {
   "cell_type": "code",
   "execution_count": 12,
   "metadata": {},
   "outputs": [
    {
     "data": {
      "text/html": [
       "<style  type=\"text/css\" >\n",
       "</style><table id=\"T_b773a012_0f5d_11eb_bb34_58961d5affc2\" ><thead>    <tr>        <th class=\"col_heading level0 col0\" >Facility</th>        <th class=\"col_heading level0 col1\" >Years in Dataset</th>        <th class=\"col_heading level0 col2\" >Total Infections Observed</th>        <th class=\"col_heading level0 col3\" >Avg Infections per Year</th>        <th class=\"col_heading level0 col4\" >Avg Indicator Value</th>    </tr></thead><tbody>\n",
       "                <tr>\n",
       "                                <td id=\"T_b773a012_0f5d_11eb_bb34_58961d5affc2row0_col0\" class=\"data row0 col0\" >New York State - All Hospitals</td>\n",
       "                        <td id=\"T_b773a012_0f5d_11eb_bb34_58961d5affc2row0_col1\" class=\"data row0 col1\" >11</td>\n",
       "                        <td id=\"T_b773a012_0f5d_11eb_bb34_58961d5affc2row0_col2\" class=\"data row0 col2\" >210,816</td>\n",
       "                        <td id=\"T_b773a012_0f5d_11eb_bb34_58961d5affc2row0_col3\" class=\"data row0 col3\" >19,165.091</td>\n",
       "                        <td id=\"T_b773a012_0f5d_11eb_bb34_58961d5affc2row0_col4\" class=\"data row0 col4\" >1.744</td>\n",
       "            </tr>\n",
       "    </tbody></table>"
      ],
      "text/plain": [
       "<pandas.io.formats.style.Styler at 0x1b778d8c748>"
      ]
     },
     "execution_count": 12,
     "metadata": {},
     "output_type": "execute_result"
    }
   ],
   "source": [
    "### This cell uses the totals rows from the raw data to answer these questions (ny_totals_df)\n",
    "\n",
    "# Collect metrics\n",
    "facility = all_ny_state['Hospital Name'].min()\n",
    "year_count = all_ny_state['Year'].nunique()\n",
    "total_infections = all_ny_state['Infections Observed'].astype(int).sum()\n",
    "avg_infections_per_year = total_infections / year_count\n",
    "avg_infections_per1000 = all_ny_state['Indicator Value'].mean()\n",
    "\n",
    "# Display dataframe\n",
    "ny_totals_df = pd.DataFrame({\n",
    "    'Facility': facility,\n",
    "    'Years in Dataset': year_count,\n",
    "    'Total Infections Observed': total_infections,\n",
    "    'Avg Infections per Year': avg_infections_per_year,\n",
    "    'Avg Indicator Value': avg_infections_per1000\n",
    "}, index = range(1))\n",
    "\n",
    "format_dict = {\n",
    "    'Total Infections Observed':'{0:,}', \n",
    "    'Avg Infections per Year': '{:,.3f}', \n",
    "    'Avg Indicator Value': '{:.3f}'}\n",
    "\n",
    "ny_totals_df.style.format(format_dict).hide_index()"
   ]
  },
  {
   "cell_type": "code",
   "execution_count": 13,
   "metadata": {},
   "outputs": [
    {
     "data": {
      "text/html": [
       "<style  type=\"text/css\" >\n",
       "</style><table id=\"T_b85c9d42_0f5d_11eb_b3a7_58961d5affc2\" ><thead>    <tr>        <th class=\"col_heading level0 col0\" >Facility</th>        <th class=\"col_heading level0 col1\" >Years in Dataset</th>        <th class=\"col_heading level0 col2\" >Total Infections Observed</th>        <th class=\"col_heading level0 col3\" >Avg Infections per Year</th>        <th class=\"col_heading level0 col4\" >Avg Indicator Value</th>    </tr></thead><tbody>\n",
       "                <tr>\n",
       "                                <td id=\"T_b85c9d42_0f5d_11eb_b3a7_58961d5affc2row0_col0\" class=\"data row0 col0\" >New York State - All Hospitals</td>\n",
       "                        <td id=\"T_b85c9d42_0f5d_11eb_b3a7_58961d5affc2row0_col1\" class=\"data row0 col1\" >11</td>\n",
       "                        <td id=\"T_b85c9d42_0f5d_11eb_b3a7_58961d5affc2row0_col2\" class=\"data row0 col2\" >211,806</td>\n",
       "                        <td id=\"T_b85c9d42_0f5d_11eb_b3a7_58961d5affc2row0_col3\" class=\"data row0 col3\" >19,255.091</td>\n",
       "                        <td id=\"T_b85c9d42_0f5d_11eb_b3a7_58961d5affc2row0_col4\" class=\"data row0 col4\" >1.964</td>\n",
       "            </tr>\n",
       "    </tbody></table>"
      ],
      "text/plain": [
       "<pandas.io.formats.style.Styler at 0x1b7792527c8>"
      ]
     },
     "execution_count": 13,
     "metadata": {},
     "output_type": "execute_result"
    }
   ],
   "source": [
    "### This cell aggregates the individual facility values from the raw data to answer these questions (infections_df)\n",
    "\n",
    "facility = 'New York State - All Hospitals'\n",
    "year_count = infections_df['Year'].nunique()\n",
    "total_infections = infections_df['Infections Observed'].sum()\n",
    "avg_infections_per_year = total_infections / year_count\n",
    "avg_indicator_value = infections_df['Indicator Value'].mean()\n",
    "\n",
    "totals_df = pd.DataFrame({\n",
    "    'Facility': facility,\n",
    "    'Years in Dataset': year_count,\n",
    "    'Total Infections Observed': int(total_infections),\n",
    "    'Avg Infections per Year': avg_infections_per_year,\n",
    "    'Avg Indicator Value': avg_indicator_value\n",
    "}, index = range(1))\n",
    "\n",
    "format_dict = {\n",
    "    'Total Infections Observed':'{0:,}', \n",
    "    'Avg Infections per Year': '{:,.3f}', \n",
    "    'Avg Indicator Value': '{:.3f}'}\n",
    "\n",
    "totals_df.style.format(format_dict).hide_index()"
   ]
  },
  {
   "cell_type": "markdown",
   "metadata": {},
   "source": [
    "There is a slight difference in the data reported through the raw data's total rows compared to calculating the totals by aggregating individual facilities' data."
   ]
  },
  {
   "cell_type": "code",
   "execution_count": 14,
   "metadata": {},
   "outputs": [
    {
     "data": {
      "text/html": [
       "<style  type=\"text/css\" >\n",
       "</style><table id=\"T_b9d82748_0f5d_11eb_b2da_58961d5affc2\" ><thead>    <tr>        <th class=\"col_heading level0 col0\" >Facility</th>        <th class=\"col_heading level0 col1\" >Years in Dataset</th>        <th class=\"col_heading level0 col2\" >Total Infections Observed</th>        <th class=\"col_heading level0 col3\" >Avg Infections per Year</th>        <th class=\"col_heading level0 col4\" >Avg Indicator Value</th>        <th class=\"col_heading level0 col5\" >Source</th>    </tr></thead><tbody>\n",
       "                <tr>\n",
       "                                <td id=\"T_b9d82748_0f5d_11eb_b2da_58961d5affc2row0_col0\" class=\"data row0 col0\" >New York State - All Hospitals</td>\n",
       "                        <td id=\"T_b9d82748_0f5d_11eb_b2da_58961d5affc2row0_col1\" class=\"data row0 col1\" >11</td>\n",
       "                        <td id=\"T_b9d82748_0f5d_11eb_b2da_58961d5affc2row0_col2\" class=\"data row0 col2\" >210,816</td>\n",
       "                        <td id=\"T_b9d82748_0f5d_11eb_b2da_58961d5affc2row0_col3\" class=\"data row0 col3\" >19,165.091</td>\n",
       "                        <td id=\"T_b9d82748_0f5d_11eb_b2da_58961d5affc2row0_col4\" class=\"data row0 col4\" >1.744</td>\n",
       "                        <td id=\"T_b9d82748_0f5d_11eb_b2da_58961d5affc2row0_col5\" class=\"data row0 col5\" >Totals Rows</td>\n",
       "            </tr>\n",
       "            <tr>\n",
       "                                <td id=\"T_b9d82748_0f5d_11eb_b2da_58961d5affc2row1_col0\" class=\"data row1 col0\" >New York State - All Hospitals</td>\n",
       "                        <td id=\"T_b9d82748_0f5d_11eb_b2da_58961d5affc2row1_col1\" class=\"data row1 col1\" >11</td>\n",
       "                        <td id=\"T_b9d82748_0f5d_11eb_b2da_58961d5affc2row1_col2\" class=\"data row1 col2\" >211,806</td>\n",
       "                        <td id=\"T_b9d82748_0f5d_11eb_b2da_58961d5affc2row1_col3\" class=\"data row1 col3\" >19,255.091</td>\n",
       "                        <td id=\"T_b9d82748_0f5d_11eb_b2da_58961d5affc2row1_col4\" class=\"data row1 col4\" >1.964</td>\n",
       "                        <td id=\"T_b9d82748_0f5d_11eb_b2da_58961d5affc2row1_col5\" class=\"data row1 col5\" >Calculated</td>\n",
       "            </tr>\n",
       "    </tbody></table>"
      ],
      "text/plain": [
       "<pandas.io.formats.style.Styler at 0x1b779252848>"
      ]
     },
     "execution_count": 14,
     "metadata": {},
     "output_type": "execute_result"
    }
   ],
   "source": [
    "ny_totals_df['Source'] = 'Totals Rows'\n",
    "totals_df['Source'] = 'Calculated'\n",
    "\n",
    "compare_df = ny_totals_df.copy().append(totals_df.copy()).reset_index(drop = True)\n",
    "\n",
    "compare_df.style.format(format_dict).hide_index()"
   ]
  },
  {
   "cell_type": "markdown",
   "metadata": {},
   "source": [
    "Because the facility-level data is needed for the more detailed analyses, for consistency it is better to use the state-level metrics aggregated using this same facility-level data rather than the pre-aggregated totals rows that were included in the raw dataset. The Analysis section will not use the ny_totals_df data."
   ]
  },
  {
   "cell_type": "markdown",
   "metadata": {},
   "source": [
    "### Add location-based features"
   ]
  },
  {
   "cell_type": "code",
   "execution_count": 15,
   "metadata": {},
   "outputs": [
    {
     "data": {
      "text/html": [
       "<div>\n",
       "<style scoped>\n",
       "    .dataframe tbody tr th:only-of-type {\n",
       "        vertical-align: middle;\n",
       "    }\n",
       "\n",
       "    .dataframe tbody tr th {\n",
       "        vertical-align: top;\n",
       "    }\n",
       "\n",
       "    .dataframe thead th {\n",
       "        text-align: right;\n",
       "    }\n",
       "</style>\n",
       "<table border=\"1\" class=\"dataframe\">\n",
       "  <thead>\n",
       "    <tr style=\"text-align: right;\">\n",
       "      <th></th>\n",
       "      <th>Facility ID</th>\n",
       "      <th>Hospital Name</th>\n",
       "      <th>Indicator Name</th>\n",
       "      <th>Year</th>\n",
       "      <th>Infections Observed</th>\n",
       "      <th>Infections Predicted</th>\n",
       "      <th>Denominator</th>\n",
       "      <th>Indicator Value</th>\n",
       "      <th>Indicator Lower Confidence Limit</th>\n",
       "      <th>Indicator Upper Confidence Limit</th>\n",
       "      <th>Indicator Units</th>\n",
       "      <th>Comparison Results</th>\n",
       "      <th>New Georeferenced Column</th>\n",
       "      <th>Indicator Code</th>\n",
       "      <th>Indicator Area</th>\n",
       "      <th>Indicator Code Long Name</th>\n",
       "    </tr>\n",
       "  </thead>\n",
       "  <tbody>\n",
       "  </tbody>\n",
       "</table>\n",
       "</div>"
      ],
      "text/plain": [
       "Empty DataFrame\n",
       "Columns: [Facility ID, Hospital Name, Indicator Name, Year, Infections Observed, Infections Predicted, Denominator, Indicator Value, Indicator Lower Confidence Limit, Indicator Upper Confidence Limit, Indicator Units, Comparison Results, New Georeferenced Column, Indicator Code, Indicator Area, Indicator Code Long Name]\n",
       "Index: []"
      ]
     },
     "execution_count": 15,
     "metadata": {},
     "output_type": "execute_result"
    }
   ],
   "source": [
    "# With the totals rows removed, we can verify that all remaining rows contain values in the \"New Georeferenced Column\"\n",
    "infections_df[infections_df['New Georeferenced Column'] == False]"
   ]
  },
  {
   "cell_type": "code",
   "execution_count": 16,
   "metadata": {},
   "outputs": [],
   "source": [
    "# Split the georeferenced column into 3 new ones for Latitude, Longitude and a tuple containing both latitude and longitude\n",
    "lat_list = []\n",
    "lon_list = []\n",
    "lats_lons = []\n",
    "\n",
    "for val in infections_df['New Georeferenced Column']:\n",
    "    \n",
    "    geo = val.strip('()').split(', ')\n",
    "    \n",
    "    lat_list.append(float(geo[0]))\n",
    "    lon_list.append(float(geo[1]))\n",
    "    lats_lons.append((float(geo[0]), float(geo[1])))\n",
    "    \n",
    "infections_df['Latitude'] = lat_list\n",
    "infections_df['Longitude'] = lon_list\n",
    "infections_df['Lat_Lon'] = lats_lons"
   ]
  },
  {
   "cell_type": "code",
   "execution_count": 17,
   "metadata": {},
   "outputs": [],
   "source": [
    "# Add nearest city based on lat and lon values\n",
    "cities = []\n",
    "\n",
    "for lat, lon in infections_df['Lat_Lon']:\n",
    "    cities.append(citipy.nearest_city(lat, lon).city_name.title())\n",
    "    \n",
    "infections_df['City'] = cities"
   ]
  },
  {
   "cell_type": "markdown",
   "metadata": {},
   "source": [
    "#### Collect county-level geographic information from Census Block API\n",
    "\n",
    "Source: https://geo.fcc.gov/api/census/"
   ]
  },
  {
   "cell_type": "code",
   "execution_count": 18,
   "metadata": {},
   "outputs": [
    {
     "name": "stdout",
     "output_type": "stream",
     "text": [
      "Total records in dataset:  21422\n",
      "Total API calls to make:  197\n"
     ]
    }
   ],
   "source": [
    "# To avoid making unnecessary API calls, create a set including only the unique Lat_Lon combinations\n",
    "lat_lon_set = set(infections_df['Lat_Lon'])\n",
    "\n",
    "#This greatly reduces the number of API calls required.\n",
    "print('Total records in dataset: ', len(infections_df['Lat_Lon']))\n",
    "print('Total API calls to make: ', len(lat_lon_set))"
   ]
  },
  {
   "cell_type": "code",
   "execution_count": 19,
   "metadata": {},
   "outputs": [
    {
     "name": "stdout",
     "output_type": "stream",
     "text": [
      "{'Block': {'FIPS': '360110414002008',\n",
      "           'bbox': [-76.566912, 42.940697, -76.562665, 42.942499],\n",
      "           'intersection': [{'FIPF': '360110414002008'},\n",
      "                            {'FIPF': '360110414003003'}]},\n",
      " 'County': {'FIPS': '36011', 'name': 'Cayuga'},\n",
      " 'State': {'FIPS': '36', 'code': 'NY', 'name': 'New York'},\n",
      " 'executionTime': '0',\n",
      " 'messages': ['FCC0001: The coordinate lies on the boundary of mulitple '\n",
      "              'blocks.'],\n",
      " 'status': 'OK'}\n"
     ]
    }
   ],
   "source": [
    "# Sample API result\n",
    "lat, lon = infections_df['Lat_Lon'][0]\n",
    "params = urllib.parse.urlencode({'latitude': lat, 'longitude':lon, 'format':'json', 'showall':'true'})\n",
    "url = 'https://geo.fcc.gov/api/census/block/find?' + params\n",
    "response = requests.get(url)\n",
    "data = response.json()\n",
    "pprint(data)"
   ]
  },
  {
   "cell_type": "code",
   "execution_count": 32,
   "metadata": {},
   "outputs": [
    {
     "name": "stdout",
     "output_type": "stream",
     "text": [
      "Done\n"
     ]
    }
   ],
   "source": [
    "# Build a new dataframe with the API call results\n",
    "geo_dict = {\n",
    "    'Lat': [],\n",
    "    'Lon': [],\n",
    "    'Lat_Lon': [],\n",
    "    'County FIPS': [],\n",
    "    'County Name': [],\n",
    "    'Block FIPS': [],\n",
    "    'Block bbox': [],\n",
    "    'Block intersection FIPF1': [],\n",
    "    'Block intersection FIPF2': []\n",
    "}\n",
    "\n",
    "for lat,lon in lat_lon_set:\n",
    "\n",
    "    #Encode parameters \n",
    "    params = urllib.parse.urlencode({'latitude': lat, 'longitude':lon, 'format':'json', 'showall':'true'})\n",
    "\n",
    "    #Contruct request URL\n",
    "    url = 'https://geo.fcc.gov/api/census/block/find?' + params\n",
    "\n",
    "    #Get response from API\n",
    "    response = requests.get(url)\n",
    "\n",
    "    #Parse json in response\n",
    "    data = response.json()\n",
    "    \n",
    "    #Save geo data\n",
    "    geo_dict['Lat'].append(lat)\n",
    "    geo_dict['Lon'].append(lon)\n",
    "    geo_dict['Lat_Lon'].append((lat,lon))\n",
    "    geo_dict['County FIPS'].append(data['County']['FIPS'])\n",
    "    geo_dict['County Name'].append(data['County']['name'])\n",
    "    geo_dict['Block FIPS'].append(data['Block']['FIPS'])\n",
    "    geo_dict['Block bbox'].append(data['Block']['bbox'])\n",
    "    \n",
    "    try: #not all records have intersection data\n",
    "        geo_dict['Block intersection FIPF1'].append(data['Block']['intersection'][0]['FIPF'])\n",
    "        geo_dict['Block intersection FIPF2'].append(data['Block']['intersection'][1]['FIPF'])\n",
    "    except:\n",
    "        geo_dict['Block intersection FIPF1'].append(np.nan)\n",
    "        geo_dict['Block intersection FIPF2'].append(np.nan)\n",
    "    \n",
    "    time.sleep(1) # make no more than 1 API call per second \n",
    "    \n",
    "geo_df = pd.DataFrame.from_dict(geo_dict)\n",
    "print('Done')"
   ]
  },
  {
   "cell_type": "code",
   "execution_count": 33,
   "metadata": {},
   "outputs": [
    {
     "data": {
      "text/html": [
       "<div>\n",
       "<style scoped>\n",
       "    .dataframe tbody tr th:only-of-type {\n",
       "        vertical-align: middle;\n",
       "    }\n",
       "\n",
       "    .dataframe tbody tr th {\n",
       "        vertical-align: top;\n",
       "    }\n",
       "\n",
       "    .dataframe thead th {\n",
       "        text-align: right;\n",
       "    }\n",
       "</style>\n",
       "<table border=\"1\" class=\"dataframe\">\n",
       "  <thead>\n",
       "    <tr style=\"text-align: right;\">\n",
       "      <th></th>\n",
       "      <th>Lat</th>\n",
       "      <th>Lon</th>\n",
       "      <th>Lat_Lon</th>\n",
       "      <th>County FIPS</th>\n",
       "      <th>County Name</th>\n",
       "      <th>Block FIPS</th>\n",
       "      <th>Block bbox</th>\n",
       "      <th>Block intersection FIPF1</th>\n",
       "      <th>Block intersection FIPF2</th>\n",
       "    </tr>\n",
       "  </thead>\n",
       "  <tbody>\n",
       "    <tr>\n",
       "      <th>0</th>\n",
       "      <td>40.764080</td>\n",
       "      <td>-73.954926</td>\n",
       "      <td>(40.76408, -73.954926)</td>\n",
       "      <td>36061</td>\n",
       "      <td>New York</td>\n",
       "      <td>360610116001002</td>\n",
       "      <td>[-73.955616, 40.763428, -73.952578, 40.765545]</td>\n",
       "      <td>360610116001002</td>\n",
       "      <td>360610116001006</td>\n",
       "    </tr>\n",
       "    <tr>\n",
       "      <th>1</th>\n",
       "      <td>41.934223</td>\n",
       "      <td>-73.912331</td>\n",
       "      <td>(41.934223, -73.912331)</td>\n",
       "      <td>36027</td>\n",
       "      <td>Dutchess</td>\n",
       "      <td>360271600052000</td>\n",
       "      <td>[-73.915986, 41.93322, -73.908026, 41.939901]</td>\n",
       "      <td>360271600052000</td>\n",
       "      <td>360271600053009</td>\n",
       "    </tr>\n",
       "    <tr>\n",
       "      <th>2</th>\n",
       "      <td>41.196774</td>\n",
       "      <td>-73.724510</td>\n",
       "      <td>(41.196774, -73.72451)</td>\n",
       "      <td>36119</td>\n",
       "      <td>Westchester</td>\n",
       "      <td>361190130002000</td>\n",
       "      <td>[-73.72763, 41.194737, -73.724435, 41.198614]</td>\n",
       "      <td>361190130002000</td>\n",
       "      <td>361190130003019</td>\n",
       "    </tr>\n",
       "    <tr>\n",
       "      <th>3</th>\n",
       "      <td>41.291512</td>\n",
       "      <td>-73.893341</td>\n",
       "      <td>(41.291512, -73.893341)</td>\n",
       "      <td>36119</td>\n",
       "      <td>Westchester</td>\n",
       "      <td>361190147014015</td>\n",
       "      <td>[-73.89607, 41.29128, -73.889346, 41.294308]</td>\n",
       "      <td>361190147014015</td>\n",
       "      <td>361190146071007</td>\n",
       "    </tr>\n",
       "    <tr>\n",
       "      <th>4</th>\n",
       "      <td>41.717392</td>\n",
       "      <td>-73.929420</td>\n",
       "      <td>(41.717392, -73.92942)</td>\n",
       "      <td>36027</td>\n",
       "      <td>Dutchess</td>\n",
       "      <td>360271401011014</td>\n",
       "      <td>[-73.930873, 41.717216, -73.925437, 41.720231]</td>\n",
       "      <td>360271401011014</td>\n",
       "      <td>360271401011020</td>\n",
       "    </tr>\n",
       "  </tbody>\n",
       "</table>\n",
       "</div>"
      ],
      "text/plain": [
       "         Lat        Lon                  Lat_Lon County FIPS  County Name  \\\n",
       "0  40.764080 -73.954926   (40.76408, -73.954926)       36061     New York   \n",
       "1  41.934223 -73.912331  (41.934223, -73.912331)       36027     Dutchess   \n",
       "2  41.196774 -73.724510   (41.196774, -73.72451)       36119  Westchester   \n",
       "3  41.291512 -73.893341  (41.291512, -73.893341)       36119  Westchester   \n",
       "4  41.717392 -73.929420   (41.717392, -73.92942)       36027     Dutchess   \n",
       "\n",
       "        Block FIPS                                      Block bbox  \\\n",
       "0  360610116001002  [-73.955616, 40.763428, -73.952578, 40.765545]   \n",
       "1  360271600052000   [-73.915986, 41.93322, -73.908026, 41.939901]   \n",
       "2  361190130002000   [-73.72763, 41.194737, -73.724435, 41.198614]   \n",
       "3  361190147014015    [-73.89607, 41.29128, -73.889346, 41.294308]   \n",
       "4  360271401011014  [-73.930873, 41.717216, -73.925437, 41.720231]   \n",
       "\n",
       "  Block intersection FIPF1 Block intersection FIPF2  \n",
       "0          360610116001002          360610116001006  \n",
       "1          360271600052000          360271600053009  \n",
       "2          361190130002000          361190130003019  \n",
       "3          361190147014015          361190146071007  \n",
       "4          360271401011014          360271401011020  "
      ]
     },
     "execution_count": 33,
     "metadata": {},
     "output_type": "execute_result"
    }
   ],
   "source": [
    "geo_df.head()"
   ]
  },
  {
   "cell_type": "code",
   "execution_count": 34,
   "metadata": {},
   "outputs": [],
   "source": [
    "# Write the geo_df data to a CSV file\n",
    "geo_df.to_csv('NY_geo.csv', index = False)"
   ]
  },
  {
   "cell_type": "markdown",
   "metadata": {},
   "source": [
    "#### Merge county data into main dataframe"
   ]
  },
  {
   "cell_type": "code",
   "execution_count": 20,
   "metadata": {},
   "outputs": [],
   "source": [
    "# read data back in from CSV if needed\n",
    "geo_df = pd.read_csv('NY_geo.csv')\n",
    "geo_df['Lat_Lon'] = geo_df[['Lat', 'Lon']].apply(tuple, axis=1)"
   ]
  },
  {
   "cell_type": "code",
   "execution_count": 21,
   "metadata": {},
   "outputs": [],
   "source": [
    "# Merge in county data by (lat,Lon)\n",
    "infections_df = pd.merge(infections_df, geo_df, how='left',\n",
    "        left_on='Lat_Lon', right_on='Lat_Lon')\n",
    "\n",
    "# Drop redundant columns\n",
    "infections_df.drop('Lat', axis = 1, inplace = True)\n",
    "infections_df.drop('Lon', axis = 1, inplace = True)"
   ]
  },
  {
   "cell_type": "code",
   "execution_count": 22,
   "metadata": {},
   "outputs": [
    {
     "data": {
      "text/plain": [
       "Index(['Facility ID', 'Hospital Name', 'Indicator Name', 'Year',\n",
       "       'Infections Observed', 'Infections Predicted', 'Denominator',\n",
       "       'Indicator Value', 'Indicator Lower Confidence Limit',\n",
       "       'Indicator Upper Confidence Limit', 'Indicator Units',\n",
       "       'Comparison Results', 'New Georeferenced Column', 'Indicator Code',\n",
       "       'Indicator Area', 'Indicator Code Long Name', 'Latitude', 'Longitude',\n",
       "       'Lat_Lon', 'City', 'County FIPS', 'County Name', 'Block FIPS',\n",
       "       'Block bbox', 'Block intersection FIPF1', 'Block intersection FIPF2'],\n",
       "      dtype='object')"
      ]
     },
     "execution_count": 22,
     "metadata": {},
     "output_type": "execute_result"
    }
   ],
   "source": [
    "infections_df.columns"
   ]
  },
  {
   "cell_type": "code",
   "execution_count": 23,
   "metadata": {},
   "outputs": [
    {
     "data": {
      "text/html": [
       "<div>\n",
       "<style scoped>\n",
       "    .dataframe tbody tr th:only-of-type {\n",
       "        vertical-align: middle;\n",
       "    }\n",
       "\n",
       "    .dataframe tbody tr th {\n",
       "        vertical-align: top;\n",
       "    }\n",
       "\n",
       "    .dataframe thead th {\n",
       "        text-align: right;\n",
       "    }\n",
       "</style>\n",
       "<table border=\"1\" class=\"dataframe\">\n",
       "  <thead>\n",
       "    <tr style=\"text-align: right;\">\n",
       "      <th></th>\n",
       "      <th>Facility ID</th>\n",
       "      <th>Year</th>\n",
       "      <th>Infections Observed</th>\n",
       "      <th>Infections Predicted</th>\n",
       "      <th>Denominator</th>\n",
       "      <th>Indicator Value</th>\n",
       "      <th>Indicator Lower Confidence Limit</th>\n",
       "      <th>Indicator Upper Confidence Limit</th>\n",
       "      <th>Latitude</th>\n",
       "      <th>Longitude</th>\n",
       "      <th>County FIPS</th>\n",
       "      <th>Block FIPS</th>\n",
       "      <th>Block intersection FIPF1</th>\n",
       "      <th>Block intersection FIPF2</th>\n",
       "    </tr>\n",
       "  </thead>\n",
       "  <tbody>\n",
       "    <tr>\n",
       "      <th>count</th>\n",
       "      <td>21422.000000</td>\n",
       "      <td>21422.000000</td>\n",
       "      <td>20336.000000</td>\n",
       "      <td>13657.000000</td>\n",
       "      <td>18576.000000</td>\n",
       "      <td>20336.000000</td>\n",
       "      <td>13657.000000</td>\n",
       "      <td>13657.000000</td>\n",
       "      <td>21422.000000</td>\n",
       "      <td>21422.000000</td>\n",
       "      <td>11903.000000</td>\n",
       "      <td>1.190300e+04</td>\n",
       "      <td>1.002000e+04</td>\n",
       "      <td>1.002000e+04</td>\n",
       "    </tr>\n",
       "    <tr>\n",
       "      <th>mean</th>\n",
       "      <td>921.440668</td>\n",
       "      <td>2014.032583</td>\n",
       "      <td>10.415323</td>\n",
       "      <td>8.325607</td>\n",
       "      <td>19233.417366</td>\n",
       "      <td>1.963528</td>\n",
       "      <td>1.012794</td>\n",
       "      <td>8.740915</td>\n",
       "      <td>41.693779</td>\n",
       "      <td>-74.862695</td>\n",
       "      <td>36060.394606</td>\n",
       "      <td>3.606053e+14</td>\n",
       "      <td>3.605988e+14</td>\n",
       "      <td>3.605988e+14</td>\n",
       "    </tr>\n",
       "    <tr>\n",
       "      <th>std</th>\n",
       "      <td>681.960997</td>\n",
       "      <td>2.962562</td>\n",
       "      <td>25.288860</td>\n",
       "      <td>22.671583</td>\n",
       "      <td>39691.042783</td>\n",
       "      <td>3.299537</td>\n",
       "      <td>2.265755</td>\n",
       "      <td>14.734116</td>\n",
       "      <td>1.115775</td>\n",
       "      <td>1.766233</td>\n",
       "      <td>32.479542</td>\n",
       "      <td>3.251908e+11</td>\n",
       "      <td>3.271374e+11</td>\n",
       "      <td>3.270720e+11</td>\n",
       "    </tr>\n",
       "    <tr>\n",
       "      <th>min</th>\n",
       "      <td>1.000000</td>\n",
       "      <td>2008.000000</td>\n",
       "      <td>0.000000</td>\n",
       "      <td>0.030000</td>\n",
       "      <td>20.000000</td>\n",
       "      <td>0.000000</td>\n",
       "      <td>0.000000</td>\n",
       "      <td>0.220000</td>\n",
       "      <td>40.516773</td>\n",
       "      <td>-79.569412</td>\n",
       "      <td>36001.000000</td>\n",
       "      <td>3.600100e+14</td>\n",
       "      <td>3.600100e+14</td>\n",
       "      <td>3.600100e+14</td>\n",
       "    </tr>\n",
       "    <tr>\n",
       "      <th>25%</th>\n",
       "      <td>511.000000</td>\n",
       "      <td>2012.000000</td>\n",
       "      <td>0.000000</td>\n",
       "      <td>0.910000</td>\n",
       "      <td>293.000000</td>\n",
       "      <td>0.000000</td>\n",
       "      <td>0.000000</td>\n",
       "      <td>2.990000</td>\n",
       "      <td>40.755531</td>\n",
       "      <td>-75.654449</td>\n",
       "      <td>36047.000000</td>\n",
       "      <td>3.604700e+14</td>\n",
       "      <td>3.602902e+14</td>\n",
       "      <td>3.602902e+14</td>\n",
       "    </tr>\n",
       "    <tr>\n",
       "      <th>50%</th>\n",
       "      <td>885.000000</td>\n",
       "      <td>2015.000000</td>\n",
       "      <td>2.000000</td>\n",
       "      <td>2.210000</td>\n",
       "      <td>2266.000000</td>\n",
       "      <td>0.780000</td>\n",
       "      <td>0.150000</td>\n",
       "      <td>5.640000</td>\n",
       "      <td>41.014721</td>\n",
       "      <td>-73.954926</td>\n",
       "      <td>36061.000000</td>\n",
       "      <td>3.606101e+14</td>\n",
       "      <td>3.606101e+14</td>\n",
       "      <td>3.606101e+14</td>\n",
       "    </tr>\n",
       "    <tr>\n",
       "      <th>75%</th>\n",
       "      <td>1306.000000</td>\n",
       "      <td>2017.000000</td>\n",
       "      <td>8.000000</td>\n",
       "      <td>5.370000</td>\n",
       "      <td>17503.500000</td>\n",
       "      <td>2.320000</td>\n",
       "      <td>0.830000</td>\n",
       "      <td>11.000000</td>\n",
       "      <td>42.819839</td>\n",
       "      <td>-73.816299</td>\n",
       "      <td>36081.000000</td>\n",
       "      <td>3.608109e+14</td>\n",
       "      <td>3.608109e+14</td>\n",
       "      <td>3.608110e+14</td>\n",
       "    </tr>\n",
       "    <tr>\n",
       "      <th>max</th>\n",
       "      <td>9250.000000</td>\n",
       "      <td>2018.000000</td>\n",
       "      <td>361.000000</td>\n",
       "      <td>335.900000</td>\n",
       "      <td>339294.000000</td>\n",
       "      <td>85.350000</td>\n",
       "      <td>31.670000</td>\n",
       "      <td>1161.730000</td>\n",
       "      <td>44.936363</td>\n",
       "      <td>-72.361282</td>\n",
       "      <td>36119.000000</td>\n",
       "      <td>3.611998e+14</td>\n",
       "      <td>3.611998e+14</td>\n",
       "      <td>3.611998e+14</td>\n",
       "    </tr>\n",
       "  </tbody>\n",
       "</table>\n",
       "</div>"
      ],
      "text/plain": [
       "        Facility ID          Year  Infections Observed  Infections Predicted  \\\n",
       "count  21422.000000  21422.000000         20336.000000          13657.000000   \n",
       "mean     921.440668   2014.032583            10.415323              8.325607   \n",
       "std      681.960997      2.962562            25.288860             22.671583   \n",
       "min        1.000000   2008.000000             0.000000              0.030000   \n",
       "25%      511.000000   2012.000000             0.000000              0.910000   \n",
       "50%      885.000000   2015.000000             2.000000              2.210000   \n",
       "75%     1306.000000   2017.000000             8.000000              5.370000   \n",
       "max     9250.000000   2018.000000           361.000000            335.900000   \n",
       "\n",
       "         Denominator  Indicator Value  Indicator Lower Confidence Limit  \\\n",
       "count   18576.000000     20336.000000                      13657.000000   \n",
       "mean    19233.417366         1.963528                          1.012794   \n",
       "std     39691.042783         3.299537                          2.265755   \n",
       "min        20.000000         0.000000                          0.000000   \n",
       "25%       293.000000         0.000000                          0.000000   \n",
       "50%      2266.000000         0.780000                          0.150000   \n",
       "75%     17503.500000         2.320000                          0.830000   \n",
       "max    339294.000000        85.350000                         31.670000   \n",
       "\n",
       "       Indicator Upper Confidence Limit      Latitude     Longitude  \\\n",
       "count                      13657.000000  21422.000000  21422.000000   \n",
       "mean                           8.740915     41.693779    -74.862695   \n",
       "std                           14.734116      1.115775      1.766233   \n",
       "min                            0.220000     40.516773    -79.569412   \n",
       "25%                            2.990000     40.755531    -75.654449   \n",
       "50%                            5.640000     41.014721    -73.954926   \n",
       "75%                           11.000000     42.819839    -73.816299   \n",
       "max                         1161.730000     44.936363    -72.361282   \n",
       "\n",
       "        County FIPS    Block FIPS  Block intersection FIPF1  \\\n",
       "count  11903.000000  1.190300e+04              1.002000e+04   \n",
       "mean   36060.394606  3.606053e+14              3.605988e+14   \n",
       "std       32.479542  3.251908e+11              3.271374e+11   \n",
       "min    36001.000000  3.600100e+14              3.600100e+14   \n",
       "25%    36047.000000  3.604700e+14              3.602902e+14   \n",
       "50%    36061.000000  3.606101e+14              3.606101e+14   \n",
       "75%    36081.000000  3.608109e+14              3.608109e+14   \n",
       "max    36119.000000  3.611998e+14              3.611998e+14   \n",
       "\n",
       "       Block intersection FIPF2  \n",
       "count              1.002000e+04  \n",
       "mean               3.605988e+14  \n",
       "std                3.270720e+11  \n",
       "min                3.600100e+14  \n",
       "25%                3.602902e+14  \n",
       "50%                3.606101e+14  \n",
       "75%                3.608110e+14  \n",
       "max                3.611998e+14  "
      ]
     },
     "execution_count": 23,
     "metadata": {},
     "output_type": "execute_result"
    }
   ],
   "source": [
    "infections_df.describe()"
   ]
  },
  {
   "cell_type": "markdown",
   "metadata": {},
   "source": [
    "<a id='Analysis'></a>\n",
    "## Analysis"
   ]
  },
  {
   "cell_type": "markdown",
   "metadata": {},
   "source": [
    "### Facilities Reporting"
   ]
  },
  {
   "cell_type": "markdown",
   "metadata": {},
   "source": [
    "**How many facilities reported each year?**"
   ]
  },
  {
   "cell_type": "code",
   "execution_count": 24,
   "metadata": {},
   "outputs": [
    {
     "data": {
      "text/html": [
       "<div>\n",
       "<style scoped>\n",
       "    .dataframe tbody tr th:only-of-type {\n",
       "        vertical-align: middle;\n",
       "    }\n",
       "\n",
       "    .dataframe tbody tr th {\n",
       "        vertical-align: top;\n",
       "    }\n",
       "\n",
       "    .dataframe thead th {\n",
       "        text-align: right;\n",
       "    }\n",
       "</style>\n",
       "<table border=\"1\" class=\"dataframe\">\n",
       "  <thead>\n",
       "    <tr style=\"text-align: right;\">\n",
       "      <th></th>\n",
       "      <th>Facility ID</th>\n",
       "    </tr>\n",
       "    <tr>\n",
       "      <th>Year</th>\n",
       "      <th></th>\n",
       "    </tr>\n",
       "  </thead>\n",
       "  <tbody>\n",
       "    <tr>\n",
       "      <th>2008</th>\n",
       "      <td>181</td>\n",
       "    </tr>\n",
       "    <tr>\n",
       "      <th>2009</th>\n",
       "      <td>178</td>\n",
       "    </tr>\n",
       "    <tr>\n",
       "      <th>2010</th>\n",
       "      <td>176</td>\n",
       "    </tr>\n",
       "    <tr>\n",
       "      <th>2011</th>\n",
       "      <td>176</td>\n",
       "    </tr>\n",
       "    <tr>\n",
       "      <th>2012</th>\n",
       "      <td>174</td>\n",
       "    </tr>\n",
       "    <tr>\n",
       "      <th>2013</th>\n",
       "      <td>170</td>\n",
       "    </tr>\n",
       "    <tr>\n",
       "      <th>2014</th>\n",
       "      <td>178</td>\n",
       "    </tr>\n",
       "    <tr>\n",
       "      <th>2015</th>\n",
       "      <td>174</td>\n",
       "    </tr>\n",
       "    <tr>\n",
       "      <th>2016</th>\n",
       "      <td>177</td>\n",
       "    </tr>\n",
       "    <tr>\n",
       "      <th>2017</th>\n",
       "      <td>176</td>\n",
       "    </tr>\n",
       "    <tr>\n",
       "      <th>2018</th>\n",
       "      <td>174</td>\n",
       "    </tr>\n",
       "  </tbody>\n",
       "</table>\n",
       "</div>"
      ],
      "text/plain": [
       "      Facility ID\n",
       "Year             \n",
       "2008          181\n",
       "2009          178\n",
       "2010          176\n",
       "2011          176\n",
       "2012          174\n",
       "2013          170\n",
       "2014          178\n",
       "2015          174\n",
       "2016          177\n",
       "2017          176\n",
       "2018          174"
      ]
     },
     "execution_count": 24,
     "metadata": {},
     "output_type": "execute_result"
    }
   ],
   "source": [
    "pd.DataFrame(infections_df.groupby('Year')['Facility ID'].nunique())"
   ]
  },
  {
   "cell_type": "markdown",
   "metadata": {},
   "source": [
    "**How are these facilities distributed around the state?**"
   ]
  },
  {
   "cell_type": "code",
   "execution_count": 82,
   "metadata": {},
   "outputs": [
    {
     "data": {
      "image/png": "[encoded data removed]",
      "text/plain": [
       "<Figure size 1080x1080 with 2 Axes>"
      ]
     },
     "metadata": {},
     "output_type": "display_data"
    }
   ],
   "source": [
    "# Read the shapefile that contains NY counties\n",
    "data_in_shapefile = shapefile.Reader('./shapefiles/tl_2010_36_county10/tl_2010_36_county10')\n",
    "\n",
    "# Get the attributes and geometry for each record in the shapefile\n",
    "attributes = []\n",
    "geometry = []\n",
    "field_names = [field[0] for field in data_in_shapefile.fields[1:]]  \n",
    "\n",
    "for row in data_in_shapefile.shapeRecords():  \n",
    "    geometry.append(shape(row.shape.__geo_interface__))  \n",
    "    attributes.append(dict(zip(field_names, row.record))) \n",
    "\n",
    "# Populate a geopandas dataframe\n",
    "gdf = gpd.GeoDataFrame(data = attributes, geometry = geometry)\n",
    "gdf.head()\n",
    "\n",
    "# Count facilities by county (include all counties, even if they have no facilities)\n",
    "all_ny_counties = list(gdf['NAME10'])\n",
    "new_dict = {\n",
    "    'County': [],\n",
    "    'Facilities': []\n",
    "}\n",
    "for county in all_ny_counties:\n",
    "    new_dict['County'].append(county)\n",
    "    new_dict['Facilities'].append(infections_df[infections_df['County Name'] == county]['Facility ID'].nunique())\n",
    "    \n",
    "county_df = pd.DataFrame.from_dict(new_dict)\n",
    "county_df.head()\n",
    "\n",
    "# Merge in facilities totals by county name\n",
    "gdf = pd.merge(gdf, county_df, how='left',\n",
    "        left_on='NAME10', right_on='County')\n",
    "\n",
    "# Drop redundant columns\n",
    "gdf.drop('County', axis = 1, inplace = True)\n",
    "\n",
    "# Get min and max facility counts (will be used to define the map color range so it spans range of facility count values)\n",
    "vmin = gdf['Facilities'].min()\n",
    "vmax = gdf['Facilities'].max()\n",
    "palette = 'Oranges'\n",
    "\n",
    "# PLOT THE MAP\n",
    "# This is a Choropleth map (map where the color of each shape is based on the value of an associated variable)\n",
    "ax = gdf.plot(column = 'Facilities', cmap = palette, edgecolor = 'black', figsize = (15,15), linewidth = 1)\n",
    "fig = ax.get_figure()\n",
    "\n",
    "# Create a ScalarMappable object and use the set_array() function to add the facility counts to it\n",
    "sm = matplotlib.cm.ScalarMappable(cmap = palette, norm = Normalize(vmin = vmin, vmax = vmax))\n",
    "sm.set_array(gdf['Facilities'])\n",
    "\n",
    "# Then pass the ScalarMappable object to the colorbar() function\n",
    "# Set the shrink argument to 0.4 so the colorbar is slightly smaller than the map\n",
    "fig.colorbar(sm, shrink = 0.4)\n",
    "\n",
    "# Add a title and hide axis ticks and labels\n",
    "plt.title('# of Reporting Facilities by County')\n",
    "ax.axes.xaxis.set_ticks([])\n",
    "ax.axes.yaxis.set_ticks([])\n",
    "\n",
    "plt.show()"
   ]
  },
  {
   "cell_type": "markdown",
   "metadata": {},
   "source": [
    "The facilities that reported hospital-acquired infection totals are primarily in or neighboring the New York City metropolitan area (southeast corner of the state). Erie county (on the western edge) also has several facilities reporting HAI data.  \n",
    "\n",
    "Most other counties have fewer than 5 facilities that reported HAI information for 2008-2018."
   ]
  },
  {
   "cell_type": "markdown",
   "metadata": {},
   "source": [
    "### Infection Totals in NY since 2008"
   ]
  },
  {
   "cell_type": "markdown",
   "metadata": {},
   "source": [
    "**How many total infections have been reported in the state of NY since 2008?  \n",
    "What is the average number of infections reported per year?**"
   ]
  },
  {
   "cell_type": "code",
   "execution_count": 84,
   "metadata": {},
   "outputs": [
    {
     "data": {
      "text/html": [
       "<style  type=\"text/css\" >\n",
       "</style><table id=\"T_c7e1b46e_0f66_11eb_8194_58961d5affc2\" ><thead>    <tr>        <th class=\"col_heading level0 col0\" >Facility</th>        <th class=\"col_heading level0 col1\" >Years in Dataset</th>        <th class=\"col_heading level0 col2\" >Total Infections Observed</th>        <th class=\"col_heading level0 col3\" >Avg Infections per Year</th>        <th class=\"col_heading level0 col4\" >Avg Indicator Value</th>    </tr></thead><tbody>\n",
       "                <tr>\n",
       "                                <td id=\"T_c7e1b46e_0f66_11eb_8194_58961d5affc2row0_col0\" class=\"data row0 col0\" >New York State - All Hospitals</td>\n",
       "                        <td id=\"T_c7e1b46e_0f66_11eb_8194_58961d5affc2row0_col1\" class=\"data row0 col1\" >11</td>\n",
       "                        <td id=\"T_c7e1b46e_0f66_11eb_8194_58961d5affc2row0_col2\" class=\"data row0 col2\" >211,806</td>\n",
       "                        <td id=\"T_c7e1b46e_0f66_11eb_8194_58961d5affc2row0_col3\" class=\"data row0 col3\" >19,255.091</td>\n",
       "                        <td id=\"T_c7e1b46e_0f66_11eb_8194_58961d5affc2row0_col4\" class=\"data row0 col4\" >1.964</td>\n",
       "            </tr>\n",
       "    </tbody></table>"
      ],
      "text/plain": [
       "<pandas.io.formats.style.Styler at 0x1b77ab029c8>"
      ]
     },
     "execution_count": 84,
     "metadata": {},
     "output_type": "execute_result"
    }
   ],
   "source": [
    "facility = 'New York State - All Hospitals'\n",
    "year_count = infections_df['Year'].nunique()\n",
    "total_infections = infections_df['Infections Observed'].sum()\n",
    "avg_infections_per_year = total_infections / year_count\n",
    "avg_indicator_value = infections_df['Indicator Value'].mean()\n",
    "\n",
    "totals_df = pd.DataFrame({\n",
    "    'Facility': facility,\n",
    "    'Years in Dataset': year_count,\n",
    "    'Total Infections Observed': int(total_infections),\n",
    "    'Avg Infections per Year': avg_infections_per_year,\n",
    "    'Avg Indicator Value': avg_indicator_value\n",
    "}, index = range(1))\n",
    "\n",
    "format_dict = {\n",
    "    'Total Infections Observed':'{0:,}', \n",
    "    'Avg Infections per Year': '{:,.3f}', \n",
    "    'Avg Indicator Value': '{:.3f}'}\n",
    "\n",
    "totals_df.style.format(format_dict).hide_index()"
   ]
  },
  {
   "cell_type": "markdown",
   "metadata": {},
   "source": [
    "**What is the trend in total infections observed from 2008 to 2018?  \n",
    "Is there any correlation to the number of facilities that reported data each year?**"
   ]
  },
  {
   "cell_type": "code",
   "execution_count": 94,
   "metadata": {},
   "outputs": [
    {
     "data": {
      "image/png": "[encoded data removed]",
      "text/plain": [
       "<Figure size 1080x432 with 1 Axes>"
      ]
     },
     "metadata": {},
     "output_type": "display_data"
    },
    {
     "data": {
      "image/png": "[encoded data removed]",
      "text/plain": [
       "<Figure size 1080x288 with 1 Axes>"
      ]
     },
     "metadata": {},
     "output_type": "display_data"
    }
   ],
   "source": [
    "# Group data by year\n",
    "year_group = infections_df.groupby('Year')\n",
    "\n",
    "year_df = pd.merge(pd.DataFrame(year_group['Infections Observed'].sum()).reset_index(level = 0), \n",
    "          pd.DataFrame(year_group['Facility ID'].nunique().reset_index(level = 0)),\n",
    "          how = 'left', left_on = 'Year', right_on = 'Year')\n",
    "\n",
    "year_df['Infections Observed'] = year_df['Infections Observed'].astype(int)\n",
    "year_df['Infections in Thousands'] = year_df['Infections Observed'] / 1000.0\n",
    "\n",
    "\n",
    "# Plot data by year\n",
    "color = list(sns.color_palette('Blues_r'))[0] #'#336FA2'\n",
    "\n",
    "\n",
    "# Create barchart\n",
    "plt.figure(figsize = (15,6))\n",
    "\n",
    "ax1 = sns.barplot(x = 'Year', y = 'Infections in Thousands', color = color, alpha = 0.75, data = year_df)\n",
    "plt.title('Infections Observed by Year', fontsize = 16)\n",
    "plt.ylabel('Infections Observed (in thousands)', fontsize = 12)\n",
    "\n",
    "plt.show()\n",
    "\n",
    "# Create line chart\n",
    "plt.figure(figsize = (15, 4))\n",
    "\n",
    "ax2 = sns.lineplot(\n",
    "    x = 'Year', y = 'Facility ID', data = year_df, sort = False, \n",
    "    color = color, marker = 'o', linewidth = 2, markersize = 10\n",
    ")\n",
    "plt.title('Total Facilities Reporting')\n",
    "ax2.set_ylabel('# Facilities', fontsize = 12)\n",
    "ax2.tick_params(axis = 'y', color = color)\n",
    "ax2.set_ylim(0,200) # Set y-axis to start from zero to provide a firm context for any fluctuations\n",
    "\n",
    "plt.show()"
   ]
  },
  {
   "cell_type": "markdown",
   "metadata": {},
   "source": [
    "The charts above reveal there was a sharp uptick in the number of infections observed in 2010, despite having roughly the same number of reporting facilities.\n",
    "\n",
    "**Why might that be? Did something change in 2010?**"
   ]
  },
  {
   "cell_type": "code",
   "execution_count": 99,
   "metadata": {},
   "outputs": [
    {
     "data": {
      "image/png": "[encoded data removed]",
      "text/plain": [
       "<Figure size 1080x720 with 1 Axes>"
      ]
     },
     "metadata": {},
     "output_type": "display_data"
    }
   ],
   "source": [
    "# Build dataframe with one row per year and one column per indicator code\n",
    "years = infections_df['Year'].unique()\n",
    "years.sort()\n",
    "indicators = infections_df['Indicator Code'].unique()\n",
    "data = np.zeros(len(years) * len(indicators)).reshape(len(years), len(indicators))\n",
    "\n",
    "ind_year_df = pd.DataFrame(data, index = years, columns = indicators)\n",
    "\n",
    "for yr in years:\n",
    "    for ind in indicators:\n",
    "        ind_year_df.loc[yr,ind] = infections_df[(infections_df['Year'] == yr) & (infections_df['Indicator Code'] == ind)]['Infections Observed'].sum()\n",
    "\n",
    "# Identify the bars to be stacked\n",
    "cdi = ind_year_df['CDI']\n",
    "clabsi = ind_year_df['CLABSI']\n",
    "ssi = ind_year_df['SSI']\n",
    "cre = ind_year_df['CRE']\n",
    " \n",
    "# Position the bars along the x-axis\n",
    "r = np.array(range(len(years))) * 1.2\n",
    " \n",
    "# Names of group and bar width\n",
    "x_names = ind_year_df.index\n",
    "barWidth = 1\n",
    "\n",
    "plt.figure(figsize = (15,10))\n",
    "palette = iter(sns.color_palette('Blues_r'))\n",
    "alpha = 0.75\n",
    "\n",
    "# Create stacked bars (bottom to top)\n",
    "plt.bar(\n",
    "    r, cdi, label = 'CDI',\n",
    "    color = next(palette), alpha = alpha, edgecolor = 'white', width = barWidth\n",
    ")\n",
    "plt.bar(\n",
    "    r, clabsi, bottom = cdi, label = 'CLABSI',\n",
    "    color = next(palette), alpha = alpha, edgecolor = 'white', width = barWidth\n",
    ")\n",
    "plt.bar(\n",
    "    r, ssi, bottom = cdi + clabsi, label = 'SSI',\n",
    "    color = next(palette), alpha = alpha, edgecolor = 'white', width = barWidth\n",
    ")\n",
    "plt.bar(\n",
    "    r, cre, bottom = cdi + clabsi + ssi, label = 'CRE',\n",
    "    color = next(palette), alpha = alpha, edgecolor='white', width=barWidth)\n",
    " \n",
    "# Plot X axis\n",
    "plt.xticks(r, x_names)\n",
    "\n",
    "# Add labels\n",
    "plt.title('Infections Observed by Code and Year', fontsize = 16)\n",
    "plt.xlabel(\"Year\", fontsize = 12)\n",
    "plt.ylabel('Infections Observed', fontsize = 12)\n",
    "plt.legend()\n",
    " \n",
    "# Show chart\n",
    "plt.show()"
   ]
  },
  {
   "cell_type": "markdown",
   "metadata": {},
   "source": [
    "By breaking down each year's total by indicator code, we can see the large jump in infections observed was caused by the introduction of CDI reporting in 2010. There was another smaller jump in 2014 when CRE reporting was added."
   ]
  },
  {
   "cell_type": "markdown",
   "metadata": {},
   "source": [
    "### Observed Infection Totals by Indicator Code"
   ]
  },
  {
   "cell_type": "markdown",
   "metadata": {},
   "source": [
    "NOTE: For fairness in comparisons across the 4 indicator codes included in the dataset, this analysis will be restricted to only the years where all 4 indicators were reported (2014-2018)."
   ]
  },
  {
   "cell_type": "code",
   "execution_count": 100,
   "metadata": {},
   "outputs": [],
   "source": [
    "# Group the infection data by indicator code\n",
    "indicator_group = infections_df[infections_df['Year'] >= 2014].groupby('Indicator Code')"
   ]
  },
  {
   "cell_type": "code",
   "execution_count": 101,
   "metadata": {},
   "outputs": [
    {
     "data": {
      "text/plain": [
       "Indicator Code\n",
       "CDI       2584\n",
       "CLABSI    4000\n",
       "CRE       3524\n",
       "SSI       2343\n",
       "Name: Infections Observed, dtype: int64"
      ]
     },
     "execution_count": 101,
     "metadata": {},
     "output_type": "execute_result"
    }
   ],
   "source": [
    "indicator_group['Infections Observed'].count()"
   ]
  },
  {
   "cell_type": "code",
   "execution_count": 102,
   "metadata": {},
   "outputs": [
    {
     "data": {
      "text/html": [
       "<style  type=\"text/css\" >\n",
       "</style><table id=\"T_858aa41e_0f68_11eb_a445_58961d5affc2\" ><thead>    <tr>        <th class=\"blank level0\" ></th>        <th class=\"col_heading level0 col0\" >Facility Count</th>        <th class=\"col_heading level0 col1\" >Total Reports</th>        <th class=\"col_heading level0 col2\" >Total Infections Observed</th>        <th class=\"col_heading level0 col3\" >Percentage of Total</th>        <th class=\"col_heading level0 col4\" >Avg Indicator Value</th>    </tr>    <tr>        <th class=\"index_name level0\" >Indicator Code</th>        <th class=\"blank\" ></th>        <th class=\"blank\" ></th>        <th class=\"blank\" ></th>        <th class=\"blank\" ></th>        <th class=\"blank\" ></th>    </tr></thead><tbody>\n",
       "                <tr>\n",
       "                        <th id=\"T_858aa41e_0f68_11eb_a445_58961d5affc2level0_row0\" class=\"row_heading level0 row0\" >CDI</th>\n",
       "                        <td id=\"T_858aa41e_0f68_11eb_a445_58961d5affc2row0_col0\" class=\"data row0 col0\" >183</td>\n",
       "                        <td id=\"T_858aa41e_0f68_11eb_a445_58961d5affc2row0_col1\" class=\"data row0 col1\" >2,649</td>\n",
       "                        <td id=\"T_858aa41e_0f68_11eb_a445_58961d5affc2row0_col2\" class=\"data row0 col2\" >76,499</td>\n",
       "                        <td id=\"T_858aa41e_0f68_11eb_a445_58961d5affc2row0_col3\" class=\"data row0 col3\" >68.80 %</td>\n",
       "                        <td id=\"T_858aa41e_0f68_11eb_a445_58961d5affc2row0_col4\" class=\"data row0 col4\" >2.91</td>\n",
       "            </tr>\n",
       "            <tr>\n",
       "                        <th id=\"T_858aa41e_0f68_11eb_a445_58961d5affc2level0_row1\" class=\"row_heading level0 row1\" >CRE</th>\n",
       "                        <td id=\"T_858aa41e_0f68_11eb_a445_58961d5affc2row1_col0\" class=\"data row1 col0\" >183</td>\n",
       "                        <td id=\"T_858aa41e_0f68_11eb_a445_58961d5affc2row1_col1\" class=\"data row1 col1\" >3,532</td>\n",
       "                        <td id=\"T_858aa41e_0f68_11eb_a445_58961d5affc2row1_col2\" class=\"data row1 col2\" >14,465</td>\n",
       "                        <td id=\"T_858aa41e_0f68_11eb_a445_58961d5affc2row1_col3\" class=\"data row1 col3\" >13.01 %</td>\n",
       "                        <td id=\"T_858aa41e_0f68_11eb_a445_58961d5affc2row1_col4\" class=\"data row1 col4\" >0.37</td>\n",
       "            </tr>\n",
       "            <tr>\n",
       "                        <th id=\"T_858aa41e_0f68_11eb_a445_58961d5affc2level0_row2\" class=\"row_heading level0 row2\" >CLABSI</th>\n",
       "                        <td id=\"T_858aa41e_0f68_11eb_a445_58961d5affc2row2_col0\" class=\"data row2 col0\" >175</td>\n",
       "                        <td id=\"T_858aa41e_0f68_11eb_a445_58961d5affc2row2_col1\" class=\"data row2 col1\" >4,265</td>\n",
       "                        <td id=\"T_858aa41e_0f68_11eb_a445_58961d5affc2row2_col2\" class=\"data row2 col2\" >11,622</td>\n",
       "                        <td id=\"T_858aa41e_0f68_11eb_a445_58961d5affc2row2_col3\" class=\"data row2 col3\" >10.45 %</td>\n",
       "                        <td id=\"T_858aa41e_0f68_11eb_a445_58961d5affc2row2_col4\" class=\"data row2 col4\" >1.00</td>\n",
       "            </tr>\n",
       "            <tr>\n",
       "                        <th id=\"T_858aa41e_0f68_11eb_a445_58961d5affc2level0_row3\" class=\"row_heading level0 row3\" >SSI</th>\n",
       "                        <td id=\"T_858aa41e_0f68_11eb_a445_58961d5affc2row3_col0\" class=\"data row3 col0\" >169</td>\n",
       "                        <td id=\"T_858aa41e_0f68_11eb_a445_58961d5affc2row3_col1\" class=\"data row3 col1\" >2,710</td>\n",
       "                        <td id=\"T_858aa41e_0f68_11eb_a445_58961d5affc2row3_col2\" class=\"data row3 col2\" >8,605</td>\n",
       "                        <td id=\"T_858aa41e_0f68_11eb_a445_58961d5affc2row3_col3\" class=\"data row3 col3\" >7.74 %</td>\n",
       "                        <td id=\"T_858aa41e_0f68_11eb_a445_58961d5affc2row3_col4\" class=\"data row3 col4\" >2.31</td>\n",
       "            </tr>\n",
       "    </tbody></table>"
      ],
      "text/plain": [
       "<pandas.io.formats.style.Styler at 0x1b77a6cc108>"
      ]
     },
     "execution_count": 102,
     "metadata": {},
     "output_type": "execute_result"
    }
   ],
   "source": [
    "# Collect metrics\n",
    "facility_count = indicator_group['Facility ID'].nunique()\n",
    "total_reports = indicator_group['Indicator Code'].count()\n",
    "total_infections = indicator_group['Infections Observed'].sum()\n",
    "percents = total_infections / infections_df[infections_df['Year'] >= 2014]['Infections Observed'].sum() * 100.0\n",
    "avg_indicator_value = indicator_group['Indicator Value'].mean()\n",
    "\n",
    "# Display in dataframe\n",
    "format_dict = {\n",
    "    'Facility Count':'{0:,}', \n",
    "    'Total Reports':'{0:,}', \n",
    "    'Total Infections Observed':'{0:,}', \n",
    "    'Percentage of Total': '{:.2f} %',\n",
    "    'Avg Indicator Value': '{:.2f}'}\n",
    "\n",
    "indicator_code_df = pd.DataFrame({\n",
    "    'Facility Count': facility_count,\n",
    "    'Total Reports': total_reports,\n",
    "    'Total Infections Observed':total_infections.astype(int), \n",
    "    'Percentage of Total':percents,\n",
    "    'Avg Indicator Value': avg_indicator_value\n",
    "})\n",
    "\n",
    "indicator_code_df.sort_values('Total Infections Observed', ascending = False).style.format(format_dict)"
   ]
  },
  {
   "cell_type": "markdown",
   "metadata": {},
   "source": [
    "CDI has the largest number of infections observed, with almost 70% of the total in this category.\n",
    "\n",
    "Although SSI makes up the smallest total observed infections, the Avg Indicator Value for this category is almost as high as CDI."
   ]
  },
  {
   "cell_type": "markdown",
   "metadata": {},
   "source": [
    "  "
   ]
  },
  {
   "cell_type": "markdown",
   "metadata": {},
   "source": [
    "**For the latest year in the dataset (2018), what was the proportion of infections reported by each indicator code?**"
   ]
  },
  {
   "cell_type": "code",
   "execution_count": 104,
   "metadata": {},
   "outputs": [
    {
     "data": {
      "image/png": "[encoded data removed]",
      "text/plain": [
       "<Figure size 1080x504 with 2 Axes>"
      ]
     },
     "metadata": {},
     "output_type": "display_data"
    }
   ],
   "source": [
    "pie_df = infections_df[infections_df['Year'] == 2018].groupby('Indicator Code')['Infections Observed'].sum().reset_index()\n",
    "pie2_df = infections_df[infections_df['Year'] == 2018].groupby('Indicator Code')['Indicator Value'].mean().reset_index()\n",
    "\n",
    "# Create 2 side-by-side subplots\n",
    "fig, (ax1,ax2) = plt.subplots(1,2, figsize = (15,7))\n",
    "\n",
    "# Plot first pie chart\n",
    "labels = pie_df['Indicator Code']\n",
    "values = pie_df['Infections Observed']\n",
    "pie_palette = list(sns.color_palette('Blues_r', n_colors = len(labels)))\n",
    "\n",
    "patches, texts, autotexts = ax1.pie(values, labels = labels, colors = pie_palette, autopct = '%1.1f%%') #plot first pie\n",
    "ax1.title.set_text('By Total Infections Observed')\n",
    "\n",
    "for t in texts:\n",
    "    t.set_size('large')\n",
    "for t in autotexts:\n",
    "    t.set_size('large')\n",
    "    t.set_weight('bold')\n",
    "autotexts[0].set_color('white') # Make the % easier to read on the darkest slice\n",
    "\n",
    "# Plot second pie chart\n",
    "labels = pie2_df['Indicator Code']\n",
    "values = pie2_df['Indicator Value']\n",
    "pie_palette = list(sns.color_palette('Oranges_r', n_colors = len(labels)))\n",
    "\n",
    "patches, texts, autotexts = ax2.pie(values, labels = labels, colors = pie_palette, autopct = '%1.1f%%') #plot second pie\n",
    "ax2.title.set_text('By Avg Indicator Value')\n",
    "\n",
    "for t in texts:\n",
    "    t.set_size('large')\n",
    "for t in autotexts:\n",
    "    t.set_size('large')\n",
    "    t.set_weight('bold')\n",
    "autotexts[0].set_color('white') # Make the % easier to read on the darkest slice\n",
    "\n",
    "# Adjust the spacing between subplots\n",
    "fig.subplots_adjust( \n",
    "    wspace = 0.5, \n",
    "    hspace = 0.3,\n",
    "    left = 0.125,\n",
    "    right = 0.9,\n",
    "    top = 0.9,\n",
    "    bottom = 0.1\n",
    ")\n",
    "\n",
    "# Set a shared title for the entire view\n",
    "fig.suptitle('Proportion of Infections by Indicator Code - 2018', fontsize = 16)\n",
    "    \n",
    "plt.show()"
   ]
  },
  {
   "cell_type": "markdown",
   "metadata": {},
   "source": [
    "The proportions for 2018 appear to be consistent with the overall totals for 2014-2018, with CDI reporting the largest number of total infections, and SSI having a relatively low *total* number of observed infections but a much higher *incidence* of infections."
   ]
  },
  {
   "cell_type": "markdown",
   "metadata": {},
   "source": [
    "  "
   ]
  },
  {
   "cell_type": "markdown",
   "metadata": {},
   "source": [
    "### Surgical Site Infections by Procedure Type"
   ]
  },
  {
   "cell_type": "markdown",
   "metadata": {},
   "source": [
    "Due to the outsized incidence of infection shown in the analysis above, the SSI indicator code may have room for improvement.\n",
    "\n",
    "Because SSI has been reported in every year of the dataset, all 11 years can be included in the analysis."
   ]
  },
  {
   "cell_type": "markdown",
   "metadata": {},
   "source": [
    "**Which procedures resulted in the most surgical site infections?**"
   ]
  },
  {
   "cell_type": "code",
   "execution_count": 105,
   "metadata": {},
   "outputs": [
    {
     "data": {
      "text/html": [
       "<style  type=\"text/css\" >\n",
       "</style><table id=\"T_33286eae_0f69_11eb_aa2a_58961d5affc2\" ><thead>    <tr>        <th class=\"blank level0\" ></th>        <th class=\"col_heading level0 col0\" >Facility Count</th>        <th class=\"col_heading level0 col1\" >Total Infections Observed</th>        <th class=\"col_heading level0 col2\" >Percentage of Total</th>        <th class=\"col_heading level0 col3\" >Infections per 100 Procedures</th>    </tr>    <tr>        <th class=\"index_name level0\" >Indicator Area</th>        <th class=\"blank\" ></th>        <th class=\"blank\" ></th>        <th class=\"blank\" ></th>        <th class=\"blank\" ></th>    </tr></thead><tbody>\n",
       "                <tr>\n",
       "                        <th id=\"T_33286eae_0f69_11eb_aa2a_58961d5affc2level0_row0\" class=\"row_heading level0 row0\" >Colon</th>\n",
       "                        <td id=\"T_33286eae_0f69_11eb_aa2a_58961d5affc2row0_col0\" class=\"data row0 col0\" >182</td>\n",
       "                        <td id=\"T_33286eae_0f69_11eb_aa2a_58961d5affc2row0_col1\" class=\"data row0 col1\" >10,125</td>\n",
       "                        <td id=\"T_33286eae_0f69_11eb_aa2a_58961d5affc2row0_col2\" class=\"data row0 col2\" >55.87 %</td>\n",
       "                        <td id=\"T_33286eae_0f69_11eb_aa2a_58961d5affc2row0_col3\" class=\"data row0 col3\" >5.082</td>\n",
       "            </tr>\n",
       "            <tr>\n",
       "                        <th id=\"T_33286eae_0f69_11eb_aa2a_58961d5affc2level0_row1\" class=\"row_heading level0 row1\" >CABG chest site</th>\n",
       "                        <td id=\"T_33286eae_0f69_11eb_aa2a_58961d5affc2row1_col0\" class=\"data row1 col0\" >43</td>\n",
       "                        <td id=\"T_33286eae_0f69_11eb_aa2a_58961d5affc2row1_col1\" class=\"data row1 col1\" >2,348</td>\n",
       "                        <td id=\"T_33286eae_0f69_11eb_aa2a_58961d5affc2row1_col2\" class=\"data row1 col2\" >12.96 %</td>\n",
       "                        <td id=\"T_33286eae_0f69_11eb_aa2a_58961d5affc2row1_col3\" class=\"data row1 col3\" >1.839</td>\n",
       "            </tr>\n",
       "            <tr>\n",
       "                        <th id=\"T_33286eae_0f69_11eb_aa2a_58961d5affc2level0_row2\" class=\"row_heading level0 row2\" >Hysterectomy</th>\n",
       "                        <td id=\"T_33286eae_0f69_11eb_aa2a_58961d5affc2row2_col0\" class=\"data row2 col0\" >168</td>\n",
       "                        <td id=\"T_33286eae_0f69_11eb_aa2a_58961d5affc2row2_col1\" class=\"data row2 col1\" >1,696</td>\n",
       "                        <td id=\"T_33286eae_0f69_11eb_aa2a_58961d5affc2row2_col2\" class=\"data row2 col2\" >9.36 %</td>\n",
       "                        <td id=\"T_33286eae_0f69_11eb_aa2a_58961d5affc2row2_col3\" class=\"data row2 col3\" >1.422</td>\n",
       "            </tr>\n",
       "            <tr>\n",
       "                        <th id=\"T_33286eae_0f69_11eb_aa2a_58961d5affc2level0_row3\" class=\"row_heading level0 row3\" >Hip</th>\n",
       "                        <td id=\"T_33286eae_0f69_11eb_aa2a_58961d5affc2row3_col0\" class=\"data row3 col0\" >176</td>\n",
       "                        <td id=\"T_33286eae_0f69_11eb_aa2a_58961d5affc2row3_col1\" class=\"data row3 col1\" >3,257</td>\n",
       "                        <td id=\"T_33286eae_0f69_11eb_aa2a_58961d5affc2row3_col2\" class=\"data row3 col2\" >17.97 %</td>\n",
       "                        <td id=\"T_33286eae_0f69_11eb_aa2a_58961d5affc2row3_col3\" class=\"data row3 col3\" >1.134</td>\n",
       "            </tr>\n",
       "            <tr>\n",
       "                        <th id=\"T_33286eae_0f69_11eb_aa2a_58961d5affc2level0_row4\" class=\"row_heading level0 row4\" >CABG donor site</th>\n",
       "                        <td id=\"T_33286eae_0f69_11eb_aa2a_58961d5affc2row4_col0\" class=\"data row4 col0\" >42</td>\n",
       "                        <td id=\"T_33286eae_0f69_11eb_aa2a_58961d5affc2row4_col1\" class=\"data row4 col1\" >695</td>\n",
       "                        <td id=\"T_33286eae_0f69_11eb_aa2a_58961d5affc2row4_col2\" class=\"data row4 col2\" >3.84 %</td>\n",
       "                        <td id=\"T_33286eae_0f69_11eb_aa2a_58961d5affc2row4_col3\" class=\"data row4 col3\" >0.646</td>\n",
       "            </tr>\n",
       "    </tbody></table>"
      ],
      "text/plain": [
       "<pandas.io.formats.style.Styler at 0x1b77c0f3548>"
      ]
     },
     "execution_count": 105,
     "metadata": {},
     "output_type": "execute_result"
    }
   ],
   "source": [
    "# Separate out just the SSI infection data\n",
    "ssi_df = infections_df[infections_df['Indicator Code'] == 'SSI']\n",
    "\n",
    "# Group the SSI data by procedure\n",
    "procedure_group = ssi_df.groupby('Indicator Area')\n",
    "\n",
    "# Collect metrics\n",
    "facility_count = procedure_group['Facility ID'].nunique()\n",
    "total_infections = procedure_group['Infections Observed'].sum()\n",
    "percents = total_infections / ssi_df['Infections Observed'].sum() * 100.0\n",
    "rate_per_100 = procedure_group['Indicator Value'].mean()\n",
    "\n",
    "# Display as dataframe\n",
    "format_dict = {\n",
    "    'Total Infections Observed':'{0:,}', \n",
    "    'Percentage of Total': '{:.2f} %', \n",
    "    'Infections per 100 Procedures': '{:.3f}'}\n",
    "\n",
    "ssi_totals_df = pd.DataFrame({\n",
    "    'Facility Count': facility_count, \n",
    "    'Total Infections Observed': total_infections.astype(int), \n",
    "    'Percentage of Total': percents,\n",
    "    'Infections per 100 Procedures': rate_per_100})\n",
    "\n",
    "ssi_totals_df.sort_values('Infections per 100 Procedures', ascending = False).style.format(format_dict)"
   ]
  },
  {
   "cell_type": "markdown",
   "metadata": {},
   "source": [
    "By both total count and incidence per 100 procedures, surgical site infections were most common after Colon procedures."
   ]
  },
  {
   "cell_type": "markdown",
   "metadata": {},
   "source": [
    "  "
   ]
  },
  {
   "cell_type": "markdown",
   "metadata": {},
   "source": [
    "### Surgical Site Infections by Facility"
   ]
  },
  {
   "cell_type": "markdown",
   "metadata": {},
   "source": [
    "Raw counts of infections reported may distort the impression of a particular facility's safety when that facility performs a very large or small number of procedures. The SSI indicator value levels the playing field by calculating the number of infections observed for every 100 procedures performed.\n",
    "\n",
    "Since the goal is to improve current processes, this analysis will focus on the most recent data available in the dataset, which is from 2018.\n",
    "\n",
    "**Which 5 facilities have the highest SSI indicator values for 2018?**"
   ]
  },
  {
   "cell_type": "code",
   "execution_count": 80,
   "metadata": {},
   "outputs": [
    {
     "data": {
      "text/html": [
       "<style  type=\"text/css\" >\n",
       "</style><table id=\"T_3d9351a6_0b29_11eb_9856_58961d5affc2\" ><thead>    <tr>        <th class=\"col_heading level0 col0\" >Facility ID</th>        <th class=\"col_heading level0 col1\" >Hospital Name</th>        <th class=\"col_heading level0 col2\" >Indicator Name</th>        <th class=\"col_heading level0 col3\" >Year</th>        <th class=\"col_heading level0 col4\" >Infections Observed</th>        <th class=\"col_heading level0 col5\" >Infections Predicted</th>        <th class=\"col_heading level0 col6\" >Indicator Value</th>    </tr></thead><tbody>\n",
       "                <tr>\n",
       "                                <td id=\"T_3d9351a6_0b29_11eb_9856_58961d5affc2row0_col0\" class=\"data row0 col0\" >1061</td>\n",
       "                        <td id=\"T_3d9351a6_0b29_11eb_9856_58961d5affc2row0_col1\" class=\"data row0 col1\" >Montefiore Mount Vernon Hospital</td>\n",
       "                        <td id=\"T_3d9351a6_0b29_11eb_9856_58961d5affc2row0_col2\" class=\"data row0 col2\" >SSI Colon</td>\n",
       "                        <td id=\"T_3d9351a6_0b29_11eb_9856_58961d5affc2row0_col3\" class=\"data row0 col3\" >2018</td>\n",
       "                        <td id=\"T_3d9351a6_0b29_11eb_9856_58961d5affc2row0_col4\" class=\"data row0 col4\" >3.000000</td>\n",
       "                        <td id=\"T_3d9351a6_0b29_11eb_9856_58961d5affc2row0_col5\" class=\"data row0 col5\" >0.960000</td>\n",
       "                        <td id=\"T_3d9351a6_0b29_11eb_9856_58961d5affc2row0_col6\" class=\"data row0 col6\" >12.860000</td>\n",
       "            </tr>\n",
       "            <tr>\n",
       "                                <td id=\"T_3d9351a6_0b29_11eb_9856_58961d5affc2row1_col0\" class=\"data row1 col0\" >1633</td>\n",
       "                        <td id=\"T_3d9351a6_0b29_11eb_9856_58961d5affc2row1_col1\" class=\"data row1 col1\" >Queens Hospital Center</td>\n",
       "                        <td id=\"T_3d9351a6_0b29_11eb_9856_58961d5affc2row1_col2\" class=\"data row1 col2\" >SSI Colon</td>\n",
       "                        <td id=\"T_3d9351a6_0b29_11eb_9856_58961d5affc2row1_col3\" class=\"data row1 col3\" >2018</td>\n",
       "                        <td id=\"T_3d9351a6_0b29_11eb_9856_58961d5affc2row1_col4\" class=\"data row1 col4\" >5.000000</td>\n",
       "                        <td id=\"T_3d9351a6_0b29_11eb_9856_58961d5affc2row1_col5\" class=\"data row1 col5\" >1.660000</td>\n",
       "                        <td id=\"T_3d9351a6_0b29_11eb_9856_58961d5affc2row1_col6\" class=\"data row1 col6\" >12.350000</td>\n",
       "            </tr>\n",
       "            <tr>\n",
       "                                <td id=\"T_3d9351a6_0b29_11eb_9856_58961d5affc2row2_col0\" class=\"data row2 col0\" >599</td>\n",
       "                        <td id=\"T_3d9351a6_0b29_11eb_9856_58961d5affc2row2_col1\" class=\"data row2 col1\" >Faxton-St Lukes Healthcare St Lukes Division</td>\n",
       "                        <td id=\"T_3d9351a6_0b29_11eb_9856_58961d5affc2row2_col2\" class=\"data row2 col2\" >SSI Hysterectomy</td>\n",
       "                        <td id=\"T_3d9351a6_0b29_11eb_9856_58961d5affc2row2_col3\" class=\"data row2 col3\" >2018</td>\n",
       "                        <td id=\"T_3d9351a6_0b29_11eb_9856_58961d5affc2row2_col4\" class=\"data row2 col4\" >7.000000</td>\n",
       "                        <td id=\"T_3d9351a6_0b29_11eb_9856_58961d5affc2row2_col5\" class=\"data row2 col5\" >0.720000</td>\n",
       "                        <td id=\"T_3d9351a6_0b29_11eb_9856_58961d5affc2row2_col6\" class=\"data row2 col6\" >10.760000</td>\n",
       "            </tr>\n",
       "            <tr>\n",
       "                                <td id=\"T_3d9351a6_0b29_11eb_9856_58961d5affc2row3_col0\" class=\"data row3 col0\" >1315</td>\n",
       "                        <td id=\"T_3d9351a6_0b29_11eb_9856_58961d5affc2row3_col1\" class=\"data row3 col1\" >Kingsbrook Jewish Medical Center</td>\n",
       "                        <td id=\"T_3d9351a6_0b29_11eb_9856_58961d5affc2row3_col2\" class=\"data row3 col2\" >SSI Colon</td>\n",
       "                        <td id=\"T_3d9351a6_0b29_11eb_9856_58961d5affc2row3_col3\" class=\"data row3 col3\" >2018</td>\n",
       "                        <td id=\"T_3d9351a6_0b29_11eb_9856_58961d5affc2row3_col4\" class=\"data row3 col4\" >4.000000</td>\n",
       "                        <td id=\"T_3d9351a6_0b29_11eb_9856_58961d5affc2row3_col5\" class=\"data row3 col5\" >1.750000</td>\n",
       "                        <td id=\"T_3d9351a6_0b29_11eb_9856_58961d5affc2row3_col6\" class=\"data row3 col6\" >9.340000</td>\n",
       "            </tr>\n",
       "            <tr>\n",
       "                                <td id=\"T_3d9351a6_0b29_11eb_9856_58961d5affc2row4_col0\" class=\"data row4 col0\" >678</td>\n",
       "                        <td id=\"T_3d9351a6_0b29_11eb_9856_58961d5affc2row4_col1\" class=\"data row4 col1\" >F F Thompson Hospital</td>\n",
       "                        <td id=\"T_3d9351a6_0b29_11eb_9856_58961d5affc2row4_col2\" class=\"data row4 col2\" >SSI Colon</td>\n",
       "                        <td id=\"T_3d9351a6_0b29_11eb_9856_58961d5affc2row4_col3\" class=\"data row4 col3\" >2018</td>\n",
       "                        <td id=\"T_3d9351a6_0b29_11eb_9856_58961d5affc2row4_col4\" class=\"data row4 col4\" >5.000000</td>\n",
       "                        <td id=\"T_3d9351a6_0b29_11eb_9856_58961d5affc2row4_col5\" class=\"data row4 col5\" >2.230000</td>\n",
       "                        <td id=\"T_3d9351a6_0b29_11eb_9856_58961d5affc2row4_col6\" class=\"data row4 col6\" >9.190000</td>\n",
       "            </tr>\n",
       "    </tbody></table>"
      ],
      "text/plain": [
       "<pandas.io.formats.style.Styler at 0x1749d042488>"
      ]
     },
     "execution_count": 80,
     "metadata": {},
     "output_type": "execute_result"
    }
   ],
   "source": [
    "infections_df.loc[(infections_df['Year'] == 2018) & (infections_df['Indicator Code'] == 'SSI'), ['Facility ID', 'Hospital Name', 'Indicator Name', 'Year', 'Infections Observed', 'Infections Predicted', 'Indicator Value']].sort_values('Indicator Value', ascending = False).head().style.hide_index()"
   ]
  },
  {
   "cell_type": "markdown",
   "metadata": {},
   "source": [
    "As might be expected from the summary-level data, 4 of the top 5 highest incidence rates in 2018 are for Colon procedures."
   ]
  },
  {
   "cell_type": "markdown",
   "metadata": {},
   "source": [
    "**What is the distribution of SSI Colon indicator values across all facilities in 2018?**"
   ]
  },
  {
   "cell_type": "code",
   "execution_count": 41,
   "metadata": {},
   "outputs": [
    {
     "data": {
      "image/png": "[encoded data removed]",
      "text/plain": [
       "<Figure size 1080x576 with 1 Axes>"
      ]
     },
     "metadata": {},
     "output_type": "display_data"
    }
   ],
   "source": [
    "plt.figure(figsize = (15,8))\n",
    "\n",
    "colon_df = infections_df[(infections_df['Year'] == 2018) & (infections_df['Indicator Name'] == 'SSI Colon')]\n",
    "\n",
    "g = sns.distplot(colon_df['Indicator Value'], bins = 10, color = '#336FA2')\n",
    "plt.title('Incidence of Surgical Site Infections in NY Facilities \\n(Colon Procedures - 2018)', fontsize = 16)\n",
    "plt.xlabel('Infections per 100 Procedures', fontsize = 12)\n",
    "plt.ylabel('Percent of Facilities', fontsize = 12)\n",
    "g.set(xlim = 0)\n",
    "\n",
    "plt.show()"
   ]
  },
  {
   "cell_type": "markdown",
   "metadata": {},
   "source": [
    "Roughly 16% of facilities were assigned to the lowest bin, representing an incidence of about 0 to 1.5 surgical site infections per 100 procedures. This is the largest bin.  \n",
    "\n",
    "However, almost as many facilities (~14%) reported an incidence level between 2.5 and about 4 infections per 100 procedures, and the percent of facilities reporting higher incidences doesn't drop below 5% until the rate is almost 8 per 100 procedures."
   ]
  },
  {
   "cell_type": "markdown",
   "metadata": {},
   "source": [
    "**How does this compare to other procedure types?**"
   ]
  },
  {
   "cell_type": "code",
   "execution_count": 46,
   "metadata": {},
   "outputs": [
    {
     "data": {
      "image/png": "[encoded data removed]",
      "text/plain": [
       "<Figure size 1080x216 with 5 Axes>"
      ]
     },
     "metadata": {},
     "output_type": "display_data"
    },
    {
     "name": "stdout",
     "output_type": "stream",
     "text": [
      "\n",
      "\n"
     ]
    },
    {
     "data": {
      "image/png": "[encoded data removed]",
      "text/plain": [
       "<Figure size 1080x432 with 1 Axes>"
      ]
     },
     "metadata": {},
     "output_type": "display_data"
    }
   ],
   "source": [
    "order = ssi_df['Indicator Area'].value_counts().index.sort_values()\n",
    "\n",
    "ssi_grid = sns.FacetGrid(\n",
    "    ssi_df, col =\"Indicator Area\", \n",
    "    col_wrap = 5, aspect = 1, \n",
    "    col_order = order,\n",
    "    hue = 'Indicator Area'\n",
    ")\n",
    "ssi_grid.map(sns.distplot, \"Indicator Value\", bins = 10)\n",
    "\n",
    "ssi_grid.set(xlim = [0,20])\n",
    "\n",
    "plt.suptitle('SSIs Observed per 100 Procedures', fontsize = 18)\n",
    "ssi_grid.set_titles(\"{col_name}\", size = 13)\n",
    "ssi_grid.fig.subplots_adjust(top=.8)\n",
    "\n",
    "plt.show()\n",
    "print('\\n')\n",
    "\n",
    "plt.figure(figsize = (15,6))\n",
    "\n",
    "g = sns.boxplot(x = 'Indicator Value', y = 'Indicator Area',\n",
    "                palette = 'Set3',\n",
    "                data = ssi_df[ssi_df['Year'] == 2018],\n",
    "                order = order\n",
    "               )\n",
    "\n",
    "plt.title('Surgical Site Infections by Procedure Type', fontsize = 16)\n",
    "plt.xlabel('Infections Observed per 100 Procedures', fontsize = 12)\n",
    "plt.ylabel('Procedure Type', fontsize = 13)\n",
    "g.set_yticklabels(g.get_ymajorticklabels(), fontsize = 12)\n",
    "\n",
    "plt.show()"
   ]
  },
  {
   "cell_type": "markdown",
   "metadata": {},
   "source": [
    "In the top series of charts, most of the procedures show the tallest bar on the far left, which then drops off quickly as you move to the right. But the Colon chart (center) has a much flatter shape than the other procedures. This means there is a much wider variation in the incidence of SSI after Colon procedures.\n",
    "\n",
    "The bottom chart provides a more detailed view of this same information. The shaded boxes represent the data points that lie within the 25th and 75th percentiles. The line within the box is the median for that procedure type. The outer lines (whiskers) show how widely distributed the incidence rates are for that procedure type; outliers are shown as diamonds. \n",
    "\n",
    "The whiskers and shaded box are both considerably wider for Colon than for any other procedure type, and the median value is much higher (~3.9). All other procedures have a median value less than 2."
   ]
  },
  {
   "cell_type": "markdown",
   "metadata": {},
   "source": [
    "<a id='Conclusion'></a>\n",
    "## Conclusion  \n",
    "\n",
    "**Because there is a large degree of variability in incidence rates across NY facilities, Colon procedures may be an ideal area to focus on for reducing surgical site infections. Facilities with lower incidence rates should be studied and their processes documented to see if they can be put into place at facilities experiencing higher incidence rates.**"
   ]
  },
  {
   "cell_type": "markdown",
   "metadata": {},
   "source": [
    "These facilities have the lowest SSI Colon indicator values. They may be good models to study for developing standardized processes."
   ]
  },
  {
   "cell_type": "code",
   "execution_count": 102,
   "metadata": {},
   "outputs": [
    {
     "data": {
      "text/html": [
       "<style  type=\"text/css\" >\n",
       "</style><table id=\"T_be95176e_0dcd_11eb_8c27_58961d5affc2\" ><thead>    <tr>        <th class=\"col_heading level0 col0\" >Facility ID</th>        <th class=\"col_heading level0 col1\" >Hospital Name</th>        <th class=\"col_heading level0 col2\" >Indicator Name</th>        <th class=\"col_heading level0 col3\" >Year</th>        <th class=\"col_heading level0 col4\" >Infections Observed</th>        <th class=\"col_heading level0 col5\" >Infections Predicted</th>        <th class=\"col_heading level0 col6\" >Indicator Value</th>        <th class=\"col_heading level0 col7\" >Denominator</th>    </tr></thead><tbody>\n",
       "                <tr>\n",
       "                                <td id=\"T_be95176e_0dcd_11eb_8c27_58961d5affc2row0_col0\" class=\"data row0 col0\" >207</td>\n",
       "                        <td id=\"T_be95176e_0dcd_11eb_8c27_58961d5affc2row0_col1\" class=\"data row0 col1\" >Buffalo General Medical Center</td>\n",
       "                        <td id=\"T_be95176e_0dcd_11eb_8c27_58961d5affc2row0_col2\" class=\"data row0 col2\" >SSI Colon</td>\n",
       "                        <td id=\"T_be95176e_0dcd_11eb_8c27_58961d5affc2row0_col3\" class=\"data row0 col3\" >2018</td>\n",
       "                        <td id=\"T_be95176e_0dcd_11eb_8c27_58961d5affc2row0_col4\" class=\"data row0 col4\" >0.000000</td>\n",
       "                        <td id=\"T_be95176e_0dcd_11eb_8c27_58961d5affc2row0_col5\" class=\"data row0 col5\" >5.660000</td>\n",
       "                        <td id=\"T_be95176e_0dcd_11eb_8c27_58961d5affc2row0_col6\" class=\"data row0 col6\" >0.000000</td>\n",
       "                        <td id=\"T_be95176e_0dcd_11eb_8c27_58961d5affc2row0_col7\" class=\"data row0 col7\" >116.000000</td>\n",
       "            </tr>\n",
       "            <tr>\n",
       "                                <td id=\"T_be95176e_0dcd_11eb_8c27_58961d5affc2row1_col0\" class=\"data row1 col0\" >1301</td>\n",
       "                        <td id=\"T_be95176e_0dcd_11eb_8c27_58961d5affc2row1_col1\" class=\"data row1 col1\" >Kings County Hospital Center</td>\n",
       "                        <td id=\"T_be95176e_0dcd_11eb_8c27_58961d5affc2row1_col2\" class=\"data row1 col2\" >SSI Colon</td>\n",
       "                        <td id=\"T_be95176e_0dcd_11eb_8c27_58961d5affc2row1_col3\" class=\"data row1 col3\" >2018</td>\n",
       "                        <td id=\"T_be95176e_0dcd_11eb_8c27_58961d5affc2row1_col4\" class=\"data row1 col4\" >0.000000</td>\n",
       "                        <td id=\"T_be95176e_0dcd_11eb_8c27_58961d5affc2row1_col5\" class=\"data row1 col5\" >4.160000</td>\n",
       "                        <td id=\"T_be95176e_0dcd_11eb_8c27_58961d5affc2row1_col6\" class=\"data row1 col6\" >0.000000</td>\n",
       "                        <td id=\"T_be95176e_0dcd_11eb_8c27_58961d5affc2row1_col7\" class=\"data row1 col7\" >92.000000</td>\n",
       "            </tr>\n",
       "            <tr>\n",
       "                                <td id=\"T_be95176e_0dcd_11eb_8c27_58961d5affc2row2_col0\" class=\"data row2 col0\" >694</td>\n",
       "                        <td id=\"T_be95176e_0dcd_11eb_8c27_58961d5affc2row2_col1\" class=\"data row2 col1\" >St Luke's Cornwall Hospital/Newburgh</td>\n",
       "                        <td id=\"T_be95176e_0dcd_11eb_8c27_58961d5affc2row2_col2\" class=\"data row2 col2\" >SSI Colon</td>\n",
       "                        <td id=\"T_be95176e_0dcd_11eb_8c27_58961d5affc2row2_col3\" class=\"data row2 col3\" >2018</td>\n",
       "                        <td id=\"T_be95176e_0dcd_11eb_8c27_58961d5affc2row2_col4\" class=\"data row2 col4\" >0.000000</td>\n",
       "                        <td id=\"T_be95176e_0dcd_11eb_8c27_58961d5affc2row2_col5\" class=\"data row2 col5\" >2.650000</td>\n",
       "                        <td id=\"T_be95176e_0dcd_11eb_8c27_58961d5affc2row2_col6\" class=\"data row2 col6\" >0.000000</td>\n",
       "                        <td id=\"T_be95176e_0dcd_11eb_8c27_58961d5affc2row2_col7\" class=\"data row2 col7\" >72.000000</td>\n",
       "            </tr>\n",
       "            <tr>\n",
       "                                <td id=\"T_be95176e_0dcd_11eb_8c27_58961d5affc2row3_col0\" class=\"data row3 col0\" >938</td>\n",
       "                        <td id=\"T_be95176e_0dcd_11eb_8c27_58961d5affc2row3_col1\" class=\"data row3 col1\" >Peconic Bay Medical Center</td>\n",
       "                        <td id=\"T_be95176e_0dcd_11eb_8c27_58961d5affc2row3_col2\" class=\"data row3 col2\" >SSI Colon</td>\n",
       "                        <td id=\"T_be95176e_0dcd_11eb_8c27_58961d5affc2row3_col3\" class=\"data row3 col3\" >2018</td>\n",
       "                        <td id=\"T_be95176e_0dcd_11eb_8c27_58961d5affc2row3_col4\" class=\"data row3 col4\" >0.000000</td>\n",
       "                        <td id=\"T_be95176e_0dcd_11eb_8c27_58961d5affc2row3_col5\" class=\"data row3 col5\" >3.030000</td>\n",
       "                        <td id=\"T_be95176e_0dcd_11eb_8c27_58961d5affc2row3_col6\" class=\"data row3 col6\" >0.000000</td>\n",
       "                        <td id=\"T_be95176e_0dcd_11eb_8c27_58961d5affc2row3_col7\" class=\"data row3 col7\" >67.000000</td>\n",
       "            </tr>\n",
       "            <tr>\n",
       "                                <td id=\"T_be95176e_0dcd_11eb_8c27_58961d5affc2row4_col0\" class=\"data row4 col0\" >1288</td>\n",
       "                        <td id=\"T_be95176e_0dcd_11eb_8c27_58961d5affc2row4_col1\" class=\"data row4 col1\" >Brooklyn Hospital Center - Downtown Campus</td>\n",
       "                        <td id=\"T_be95176e_0dcd_11eb_8c27_58961d5affc2row4_col2\" class=\"data row4 col2\" >SSI Colon</td>\n",
       "                        <td id=\"T_be95176e_0dcd_11eb_8c27_58961d5affc2row4_col3\" class=\"data row4 col3\" >2018</td>\n",
       "                        <td id=\"T_be95176e_0dcd_11eb_8c27_58961d5affc2row4_col4\" class=\"data row4 col4\" >0.000000</td>\n",
       "                        <td id=\"T_be95176e_0dcd_11eb_8c27_58961d5affc2row4_col5\" class=\"data row4 col5\" >2.540000</td>\n",
       "                        <td id=\"T_be95176e_0dcd_11eb_8c27_58961d5affc2row4_col6\" class=\"data row4 col6\" >0.000000</td>\n",
       "                        <td id=\"T_be95176e_0dcd_11eb_8c27_58961d5affc2row4_col7\" class=\"data row4 col7\" >65.000000</td>\n",
       "            </tr>\n",
       "            <tr>\n",
       "                                <td id=\"T_be95176e_0dcd_11eb_8c27_58961d5affc2row5_col0\" class=\"data row5 col0\" >1178</td>\n",
       "                        <td id=\"T_be95176e_0dcd_11eb_8c27_58961d5affc2row5_col1\" class=\"data row5 col1\" >BronxCare Hospital Center</td>\n",
       "                        <td id=\"T_be95176e_0dcd_11eb_8c27_58961d5affc2row5_col2\" class=\"data row5 col2\" >SSI Colon</td>\n",
       "                        <td id=\"T_be95176e_0dcd_11eb_8c27_58961d5affc2row5_col3\" class=\"data row5 col3\" >2018</td>\n",
       "                        <td id=\"T_be95176e_0dcd_11eb_8c27_58961d5affc2row5_col4\" class=\"data row5 col4\" >0.000000</td>\n",
       "                        <td id=\"T_be95176e_0dcd_11eb_8c27_58961d5affc2row5_col5\" class=\"data row5 col5\" >2.450000</td>\n",
       "                        <td id=\"T_be95176e_0dcd_11eb_8c27_58961d5affc2row5_col6\" class=\"data row5 col6\" >0.000000</td>\n",
       "                        <td id=\"T_be95176e_0dcd_11eb_8c27_58961d5affc2row5_col7\" class=\"data row5 col7\" >64.000000</td>\n",
       "            </tr>\n",
       "            <tr>\n",
       "                                <td id=\"T_be95176e_0dcd_11eb_8c27_58961d5affc2row6_col0\" class=\"data row6 col0\" >1176</td>\n",
       "                        <td id=\"T_be95176e_0dcd_11eb_8c27_58961d5affc2row6_col1\" class=\"data row6 col1\" >SBH Health System</td>\n",
       "                        <td id=\"T_be95176e_0dcd_11eb_8c27_58961d5affc2row6_col2\" class=\"data row6 col2\" >SSI Colon</td>\n",
       "                        <td id=\"T_be95176e_0dcd_11eb_8c27_58961d5affc2row6_col3\" class=\"data row6 col3\" >2018</td>\n",
       "                        <td id=\"T_be95176e_0dcd_11eb_8c27_58961d5affc2row6_col4\" class=\"data row6 col4\" >0.000000</td>\n",
       "                        <td id=\"T_be95176e_0dcd_11eb_8c27_58961d5affc2row6_col5\" class=\"data row6 col5\" >3.260000</td>\n",
       "                        <td id=\"T_be95176e_0dcd_11eb_8c27_58961d5affc2row6_col6\" class=\"data row6 col6\" >0.000000</td>\n",
       "                        <td id=\"T_be95176e_0dcd_11eb_8c27_58961d5affc2row6_col7\" class=\"data row6 col7\" >59.000000</td>\n",
       "            </tr>\n",
       "            <tr>\n",
       "                                <td id=\"T_be95176e_0dcd_11eb_8c27_58961d5affc2row7_col0\" class=\"data row7 col0\" >671</td>\n",
       "                        <td id=\"T_be95176e_0dcd_11eb_8c27_58961d5affc2row7_col1\" class=\"data row7 col1\" >Geneva General Hospital</td>\n",
       "                        <td id=\"T_be95176e_0dcd_11eb_8c27_58961d5affc2row7_col2\" class=\"data row7 col2\" >SSI Colon</td>\n",
       "                        <td id=\"T_be95176e_0dcd_11eb_8c27_58961d5affc2row7_col3\" class=\"data row7 col3\" >2018</td>\n",
       "                        <td id=\"T_be95176e_0dcd_11eb_8c27_58961d5affc2row7_col4\" class=\"data row7 col4\" >0.000000</td>\n",
       "                        <td id=\"T_be95176e_0dcd_11eb_8c27_58961d5affc2row7_col5\" class=\"data row7 col5\" >1.910000</td>\n",
       "                        <td id=\"T_be95176e_0dcd_11eb_8c27_58961d5affc2row7_col6\" class=\"data row7 col6\" >0.000000</td>\n",
       "                        <td id=\"T_be95176e_0dcd_11eb_8c27_58961d5affc2row7_col7\" class=\"data row7 col7\" >58.000000</td>\n",
       "            </tr>\n",
       "            <tr>\n",
       "                                <td id=\"T_be95176e_0dcd_11eb_8c27_58961d5affc2row8_col0\" class=\"data row8 col0\" >628</td>\n",
       "                        <td id=\"T_be95176e_0dcd_11eb_8c27_58961d5affc2row8_col1\" class=\"data row8 col1\" >UPSTATE University Hospital at Community General</td>\n",
       "                        <td id=\"T_be95176e_0dcd_11eb_8c27_58961d5affc2row8_col2\" class=\"data row8 col2\" >SSI Colon</td>\n",
       "                        <td id=\"T_be95176e_0dcd_11eb_8c27_58961d5affc2row8_col3\" class=\"data row8 col3\" >2018</td>\n",
       "                        <td id=\"T_be95176e_0dcd_11eb_8c27_58961d5affc2row8_col4\" class=\"data row8 col4\" >0.000000</td>\n",
       "                        <td id=\"T_be95176e_0dcd_11eb_8c27_58961d5affc2row8_col5\" class=\"data row8 col5\" >2.460000</td>\n",
       "                        <td id=\"T_be95176e_0dcd_11eb_8c27_58961d5affc2row8_col6\" class=\"data row8 col6\" >0.000000</td>\n",
       "                        <td id=\"T_be95176e_0dcd_11eb_8c27_58961d5affc2row8_col7\" class=\"data row8 col7\" >56.000000</td>\n",
       "            </tr>\n",
       "            <tr>\n",
       "                                <td id=\"T_be95176e_0dcd_11eb_8c27_58961d5affc2row9_col0\" class=\"data row9 col0\" >896</td>\n",
       "                        <td id=\"T_be95176e_0dcd_11eb_8c27_58961d5affc2row9_col1\" class=\"data row9 col1\" >St Charles Hospital</td>\n",
       "                        <td id=\"T_be95176e_0dcd_11eb_8c27_58961d5affc2row9_col2\" class=\"data row9 col2\" >SSI Colon</td>\n",
       "                        <td id=\"T_be95176e_0dcd_11eb_8c27_58961d5affc2row9_col3\" class=\"data row9 col3\" >2018</td>\n",
       "                        <td id=\"T_be95176e_0dcd_11eb_8c27_58961d5affc2row9_col4\" class=\"data row9 col4\" >0.000000</td>\n",
       "                        <td id=\"T_be95176e_0dcd_11eb_8c27_58961d5affc2row9_col5\" class=\"data row9 col5\" >1.580000</td>\n",
       "                        <td id=\"T_be95176e_0dcd_11eb_8c27_58961d5affc2row9_col6\" class=\"data row9 col6\" >0.000000</td>\n",
       "                        <td id=\"T_be95176e_0dcd_11eb_8c27_58961d5affc2row9_col7\" class=\"data row9 col7\" >50.000000</td>\n",
       "            </tr>\n",
       "    </tbody></table>"
      ],
      "text/plain": [
       "<pandas.io.formats.style.Styler at 0x2545ee93608>"
      ]
     },
     "execution_count": 102,
     "metadata": {},
     "output_type": "execute_result"
    }
   ],
   "source": [
    "infections_df.loc[(infections_df['Year'] == 2018) & (infections_df['Indicator Name'] == 'SSI Colon'), ['Facility ID', 'Hospital Name', 'Indicator Name', 'Year', 'Infections Observed', 'Infections Predicted', 'Indicator Value', 'Denominator']].sort_values(['Indicator Value', 'Denominator'], ascending = [True, False]).head(10).style.hide_index()"
   ]
  },
  {
   "cell_type": "markdown",
   "metadata": {},
   "source": [
    "These facilities have the highest SSI Colon indicator values. Prioritizing the implementation of new processes at these facilities has the greatest chance of having a measurable impact on the total number of observed SSI after Colon procedures."
   ]
  },
  {
   "cell_type": "code",
   "execution_count": 105,
   "metadata": {},
   "outputs": [
    {
     "data": {
      "text/html": [
       "<style  type=\"text/css\" >\n",
       "</style><table id=\"T_0c03f91c_0dcf_11eb_b466_58961d5affc2\" ><thead>    <tr>        <th class=\"col_heading level0 col0\" >Facility ID</th>        <th class=\"col_heading level0 col1\" >Hospital Name</th>        <th class=\"col_heading level0 col2\" >Indicator Name</th>        <th class=\"col_heading level0 col3\" >Year</th>        <th class=\"col_heading level0 col4\" >Infections Observed</th>        <th class=\"col_heading level0 col5\" >Infections Predicted</th>        <th class=\"col_heading level0 col6\" >Indicator Value</th>    </tr></thead><tbody>\n",
       "                <tr>\n",
       "                                <td id=\"T_0c03f91c_0dcf_11eb_b466_58961d5affc2row0_col0\" class=\"data row0 col0\" >1061</td>\n",
       "                        <td id=\"T_0c03f91c_0dcf_11eb_b466_58961d5affc2row0_col1\" class=\"data row0 col1\" >Montefiore Mount Vernon Hospital</td>\n",
       "                        <td id=\"T_0c03f91c_0dcf_11eb_b466_58961d5affc2row0_col2\" class=\"data row0 col2\" >SSI Colon</td>\n",
       "                        <td id=\"T_0c03f91c_0dcf_11eb_b466_58961d5affc2row0_col3\" class=\"data row0 col3\" >2018</td>\n",
       "                        <td id=\"T_0c03f91c_0dcf_11eb_b466_58961d5affc2row0_col4\" class=\"data row0 col4\" >3.000000</td>\n",
       "                        <td id=\"T_0c03f91c_0dcf_11eb_b466_58961d5affc2row0_col5\" class=\"data row0 col5\" >0.960000</td>\n",
       "                        <td id=\"T_0c03f91c_0dcf_11eb_b466_58961d5affc2row0_col6\" class=\"data row0 col6\" >12.860000</td>\n",
       "            </tr>\n",
       "            <tr>\n",
       "                                <td id=\"T_0c03f91c_0dcf_11eb_b466_58961d5affc2row1_col0\" class=\"data row1 col0\" >1633</td>\n",
       "                        <td id=\"T_0c03f91c_0dcf_11eb_b466_58961d5affc2row1_col1\" class=\"data row1 col1\" >Queens Hospital Center</td>\n",
       "                        <td id=\"T_0c03f91c_0dcf_11eb_b466_58961d5affc2row1_col2\" class=\"data row1 col2\" >SSI Colon</td>\n",
       "                        <td id=\"T_0c03f91c_0dcf_11eb_b466_58961d5affc2row1_col3\" class=\"data row1 col3\" >2018</td>\n",
       "                        <td id=\"T_0c03f91c_0dcf_11eb_b466_58961d5affc2row1_col4\" class=\"data row1 col4\" >5.000000</td>\n",
       "                        <td id=\"T_0c03f91c_0dcf_11eb_b466_58961d5affc2row1_col5\" class=\"data row1 col5\" >1.660000</td>\n",
       "                        <td id=\"T_0c03f91c_0dcf_11eb_b466_58961d5affc2row1_col6\" class=\"data row1 col6\" >12.350000</td>\n",
       "            </tr>\n",
       "            <tr>\n",
       "                                <td id=\"T_0c03f91c_0dcf_11eb_b466_58961d5affc2row2_col0\" class=\"data row2 col0\" >1315</td>\n",
       "                        <td id=\"T_0c03f91c_0dcf_11eb_b466_58961d5affc2row2_col1\" class=\"data row2 col1\" >Kingsbrook Jewish Medical Center</td>\n",
       "                        <td id=\"T_0c03f91c_0dcf_11eb_b466_58961d5affc2row2_col2\" class=\"data row2 col2\" >SSI Colon</td>\n",
       "                        <td id=\"T_0c03f91c_0dcf_11eb_b466_58961d5affc2row2_col3\" class=\"data row2 col3\" >2018</td>\n",
       "                        <td id=\"T_0c03f91c_0dcf_11eb_b466_58961d5affc2row2_col4\" class=\"data row2 col4\" >4.000000</td>\n",
       "                        <td id=\"T_0c03f91c_0dcf_11eb_b466_58961d5affc2row2_col5\" class=\"data row2 col5\" >1.750000</td>\n",
       "                        <td id=\"T_0c03f91c_0dcf_11eb_b466_58961d5affc2row2_col6\" class=\"data row2 col6\" >9.340000</td>\n",
       "            </tr>\n",
       "            <tr>\n",
       "                                <td id=\"T_0c03f91c_0dcf_11eb_b466_58961d5affc2row3_col0\" class=\"data row3 col0\" >678</td>\n",
       "                        <td id=\"T_0c03f91c_0dcf_11eb_b466_58961d5affc2row3_col1\" class=\"data row3 col1\" >F F Thompson Hospital</td>\n",
       "                        <td id=\"T_0c03f91c_0dcf_11eb_b466_58961d5affc2row3_col2\" class=\"data row3 col2\" >SSI Colon</td>\n",
       "                        <td id=\"T_0c03f91c_0dcf_11eb_b466_58961d5affc2row3_col3\" class=\"data row3 col3\" >2018</td>\n",
       "                        <td id=\"T_0c03f91c_0dcf_11eb_b466_58961d5affc2row3_col4\" class=\"data row3 col4\" >5.000000</td>\n",
       "                        <td id=\"T_0c03f91c_0dcf_11eb_b466_58961d5affc2row3_col5\" class=\"data row3 col5\" >2.230000</td>\n",
       "                        <td id=\"T_0c03f91c_0dcf_11eb_b466_58961d5affc2row3_col6\" class=\"data row3 col6\" >9.190000</td>\n",
       "            </tr>\n",
       "            <tr>\n",
       "                                <td id=\"T_0c03f91c_0dcf_11eb_b466_58961d5affc2row4_col0\" class=\"data row4 col0\" >292</td>\n",
       "                        <td id=\"T_0c03f91c_0dcf_11eb_b466_58961d5affc2row4_col1\" class=\"data row4 col1\" >Sisters of Charity Hospital - St Joseph Campus</td>\n",
       "                        <td id=\"T_0c03f91c_0dcf_11eb_b466_58961d5affc2row4_col2\" class=\"data row4 col2\" >SSI Colon</td>\n",
       "                        <td id=\"T_0c03f91c_0dcf_11eb_b466_58961d5affc2row4_col3\" class=\"data row4 col3\" >2018</td>\n",
       "                        <td id=\"T_0c03f91c_0dcf_11eb_b466_58961d5affc2row4_col4\" class=\"data row4 col4\" >3.000000</td>\n",
       "                        <td id=\"T_0c03f91c_0dcf_11eb_b466_58961d5affc2row4_col5\" class=\"data row4 col5\" >1.370000</td>\n",
       "                        <td id=\"T_0c03f91c_0dcf_11eb_b466_58961d5affc2row4_col6\" class=\"data row4 col6\" >9.000000</td>\n",
       "            </tr>\n",
       "    </tbody></table>"
      ],
      "text/plain": [
       "<pandas.io.formats.style.Styler at 0x2545eed2808>"
      ]
     },
     "execution_count": 105,
     "metadata": {},
     "output_type": "execute_result"
    }
   ],
   "source": [
    "infections_df.loc[(infections_df['Year'] == 2018) & (infections_df['Indicator Name'] == 'SSI Colon'), ['Facility ID', 'Hospital Name', 'Indicator Name', 'Year', 'Infections Observed', 'Infections Predicted', 'Indicator Value']].sort_values('Indicator Value', ascending = False).head().style.hide_index()"
   ]
  },
  {
   "cell_type": "markdown",
   "metadata": {},
   "source": [
    "   \n",
    "   "
   ]
  },
  {
   "cell_type": "markdown",
   "metadata": {},
   "source": [
    "[Back to Top](#Top)"
   ]
  }
 ],
 "metadata": {
  "kernelspec": {
   "display_name": "Python 3",
   "language": "python",
   "name": "python3"
  },
  "language_info": {
   "codemirror_mode": {
    "name": "ipython",
    "version": 3
   },
   "file_extension": ".py",
   "mimetype": "text/x-python",
   "name": "python",
   "nbconvert_exporter": "python",
   "pygments_lexer": "ipython3",
   "version": "3.7.8"
  }
 },
 "nbformat": 4,
 "nbformat_minor": 4
}
